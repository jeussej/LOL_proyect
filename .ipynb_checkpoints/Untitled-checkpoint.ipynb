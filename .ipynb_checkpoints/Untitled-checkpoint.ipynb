{
 "cells": [
  {
   "cell_type": "markdown",
   "metadata": {},
   "source": [
    "#  import libraries\n"
   ]
  },
  {
   "cell_type": "code",
   "execution_count": 51,
   "metadata": {},
   "outputs": [],
   "source": [
    "import numpy as np\n",
    "import pandas as pd\n",
    "import matplotlib.pyplot as plt\n",
    "from sklearn.model_selection import train_test_split\n",
    "from sklearn.utils import shuffle\n",
    "from sklearn.linear_model import LogisticRegression"
   ]
  },
  {
   "cell_type": "markdown",
   "metadata": {},
   "source": [
    "Read CSV"
   ]
  },
  {
   "cell_type": "code",
   "execution_count": 23,
   "metadata": {},
   "outputs": [],
   "source": [
    "df=pd.read_csv(\"Datasets/lol_ranked_games.csv\")"
   ]
  },
  {
   "cell_type": "markdown",
   "metadata": {},
   "source": [
    "print name of all collumns"
   ]
  },
  {
   "cell_type": "code",
   "execution_count": 24,
   "metadata": {},
   "outputs": [
    {
     "name": "stdout",
     "output_type": "stream",
     "text": [
      "<class 'pandas.core.frame.DataFrame'>\n",
      "RangeIndex: 242572 entries, 0 to 242571\n",
      "Data columns (total 59 columns):\n",
      " #   Column                   Non-Null Count   Dtype  \n",
      "---  ------                   --------------   -----  \n",
      " 0   gameId                   242572 non-null  int64  \n",
      " 1   gameDuration             242572 non-null  int64  \n",
      " 2   hasWon                   242572 non-null  int64  \n",
      " 3   frame                    242572 non-null  int64  \n",
      " 4   goldDiff                 242572 non-null  int64  \n",
      " 5   expDiff                  242572 non-null  int64  \n",
      " 6   champLevelDiff           242572 non-null  float64\n",
      " 7   isFirstTower             242572 non-null  int64  \n",
      " 8   isFirstBlood             242572 non-null  int64  \n",
      " 9   killedFireDrake          242572 non-null  int64  \n",
      " 10  killedWaterDrake         242572 non-null  int64  \n",
      " 11  killedAirDrake           242572 non-null  int64  \n",
      " 12  killedEarthDrake         242572 non-null  int64  \n",
      " 13  killedElderDrake         242572 non-null  int64  \n",
      " 14  lostFireDrake            242572 non-null  int64  \n",
      " 15  lostWaterDrake           242572 non-null  int64  \n",
      " 16  lostAirDrake             242572 non-null  int64  \n",
      " 17  lostEarthDrake           242572 non-null  int64  \n",
      " 18  lostElderDrake           242572 non-null  int64  \n",
      " 19  killedBaronNashor        242572 non-null  int64  \n",
      " 20  lostBaronNashor          242572 non-null  int64  \n",
      " 21  killedRiftHerald         242572 non-null  int64  \n",
      " 22  lostRiftHerald           242572 non-null  int64  \n",
      " 23  destroyedTopInhibitor    242572 non-null  int64  \n",
      " 24  destroyedMidInhibitor    242572 non-null  int64  \n",
      " 25  destroyedBotInhibitor    242572 non-null  int64  \n",
      " 26  lostTopInhibitor         242572 non-null  int64  \n",
      " 27  lostMidInhibitor         242572 non-null  int64  \n",
      " 28  lostBotInhibitor         242572 non-null  int64  \n",
      " 29  destroyedTopNexusTurret  242572 non-null  int64  \n",
      " 30  destroyedMidNexusTurret  242572 non-null  int64  \n",
      " 31  destroyedBotNexusTurret  242572 non-null  int64  \n",
      " 32  lostTopNexusTurret       242572 non-null  int64  \n",
      " 33  lostMidNexusTurret       242572 non-null  int64  \n",
      " 34  lostBotNexusTurret       242572 non-null  int64  \n",
      " 35  destroyedTopBaseTurret   242572 non-null  int64  \n",
      " 36  destroyedMidBaseTurret   242572 non-null  int64  \n",
      " 37  destroyedBotBaseTurret   242572 non-null  int64  \n",
      " 38  lostTopBaseTurret        242572 non-null  int64  \n",
      " 39  lostMidBaseTurret        242572 non-null  int64  \n",
      " 40  lostBotBaseTurret        242572 non-null  int64  \n",
      " 41  destroyedTopInnerTurret  242572 non-null  int64  \n",
      " 42  destroyedMidInnerTurret  242572 non-null  int64  \n",
      " 43  destroyedBotInnerTurret  242572 non-null  int64  \n",
      " 44  lostTopInnerTurret       242572 non-null  int64  \n",
      " 45  lostMidInnerTurret       242572 non-null  int64  \n",
      " 46  lostBotInnerTurret       242572 non-null  int64  \n",
      " 47  destroyedTopOuterTurret  242572 non-null  int64  \n",
      " 48  destroyedMidOuterTurret  242572 non-null  int64  \n",
      " 49  destroyedBotOuterTurret  242572 non-null  int64  \n",
      " 50  lostTopOuterTurret       242572 non-null  int64  \n",
      " 51  lostMidOuterTurret       242572 non-null  int64  \n",
      " 52  lostBotOuterTurret       242572 non-null  int64  \n",
      " 53  kills                    242572 non-null  int64  \n",
      " 54  deaths                   242572 non-null  int64  \n",
      " 55  assists                  242572 non-null  int64  \n",
      " 56  wardsPlaced              242572 non-null  int64  \n",
      " 57  wardsDestroyed           242572 non-null  int64  \n",
      " 58  wardsLost                242572 non-null  int64  \n",
      "dtypes: float64(1), int64(58)\n",
      "memory usage: 109.2 MB\n"
     ]
    }
   ],
   "source": [
    "df.info()"
   ]
  },
  {
   "cell_type": "markdown",
   "metadata": {},
   "source": [
    "get first aproximation"
   ]
  },
  {
   "cell_type": "code",
   "execution_count": 43,
   "metadata": {},
   "outputs": [],
   "source": [
    "X=df.drop(\"gameId\", axis=1)\n",
    "Y=X[\"hasWon\"]\n",
    "X.drop(\"hasWon\",axis=1, inplace=True)\n",
    "\n",
    "\n",
    "\n",
    "x_train, x_trans, y_train, y_trans = train_test_split(X,Y, test_size=0.4, shuffle=True)\n",
    "x_test, x_val, y_test, y_val = train_test_split(x_trans,y_trans, test_size=0.33, shuffle=False)\n"
   ]
  },
  {
   "cell_type": "code",
   "execution_count": 53,
   "metadata": {},
   "outputs": [],
   "source": [
    "regressor = LogisticRegression(fit_intercept=True)\n",
    "regressor.fit(x_train, y_train)\n",
    "y_test_pred = regressor.predict(x_test)"
   ]
  },
  {
   "cell_type": "code",
   "execution_count": 49,
   "metadata": {},
   "outputs": [
    {
     "data": {
      "text/plain": [
       "32019.57"
      ]
     },
     "execution_count": 49,
     "metadata": {},
     "output_type": "execute_result"
    }
   ],
   "source": []
  }
 ],
 "metadata": {
  "kernelspec": {
   "display_name": "Python 3.8.3 64-bit ('DL': conda)",
   "language": "python",
   "name": "python38364bitdlconda10e2384fa6c84963a24ee4b8427dc29b"
  },
  "language_info": {
   "codemirror_mode": {
    "name": "ipython",
    "version": 3
   },
   "file_extension": ".py",
   "mimetype": "text/x-python",
   "name": "python",
   "nbconvert_exporter": "python",
   "pygments_lexer": "ipython3",
   "version": "3.8.3"
  }
 },
 "nbformat": 4,
 "nbformat_minor": 4
}
