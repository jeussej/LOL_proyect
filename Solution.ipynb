{
 "cells": [
  {
   "cell_type": "code",
   "execution_count": 1,
   "metadata": {
    "colab": {
     "base_uri": "https://localhost:8080/",
     "height": 120
    },
    "colab_type": "code",
    "executionInfo": {
     "elapsed": 29679,
     "status": "ok",
     "timestamp": 1579634352459,
     "user": {
      "displayName": "Santiago Jaramillo González",
      "photoUrl": "https://lh3.googleusercontent.com/a-/AAuE7mDyEr0lPQPVESu7gMkrsVq-Y6F_YGGYyisqjtvmEg=s64",
      "userId": "15826679613750846177"
     },
     "user_tz": 300
    },
    "id": "oEgwezyqARRV",
    "outputId": "99ad0dfb-4fae-454c-f6cd-44e664c04120"
   },
   "outputs": [
    {
     "ename": "ModuleNotFoundError",
     "evalue": "No module named 'seaborn'",
     "output_type": "error",
     "traceback": [
      "\u001b[1;31m---------------------------------------------------------------------------\u001b[0m",
      "\u001b[1;31mModuleNotFoundError\u001b[0m                       Traceback (most recent call last)",
      "\u001b[1;32m<ipython-input-1-8a41696ba06a>\u001b[0m in \u001b[0;36m<module>\u001b[1;34m\u001b[0m\n\u001b[0;32m      1\u001b[0m \u001b[1;32mimport\u001b[0m \u001b[0mpandas\u001b[0m \u001b[1;32mas\u001b[0m \u001b[0mpd\u001b[0m\u001b[1;33m\u001b[0m\u001b[1;33m\u001b[0m\u001b[0m\n\u001b[1;32m----> 2\u001b[1;33m \u001b[1;32mimport\u001b[0m \u001b[0mseaborn\u001b[0m \u001b[1;32mas\u001b[0m \u001b[0msns\u001b[0m\u001b[1;33m\u001b[0m\u001b[1;33m\u001b[0m\u001b[0m\n\u001b[0m\u001b[0;32m      3\u001b[0m \u001b[1;32mimport\u001b[0m \u001b[0mnumpy\u001b[0m \u001b[1;32mas\u001b[0m \u001b[0mnp\u001b[0m\u001b[1;33m\u001b[0m\u001b[1;33m\u001b[0m\u001b[0m\n\u001b[0;32m      4\u001b[0m \u001b[1;33m\u001b[0m\u001b[0m\n\u001b[0;32m      5\u001b[0m \u001b[1;32mfrom\u001b[0m \u001b[0mgoogle\u001b[0m\u001b[1;33m.\u001b[0m\u001b[0mcolab\u001b[0m \u001b[1;32mimport\u001b[0m \u001b[0mdrive\u001b[0m\u001b[1;33m\u001b[0m\u001b[1;33m\u001b[0m\u001b[0m\n",
      "\u001b[1;31mModuleNotFoundError\u001b[0m: No module named 'seaborn'"
     ]
    }
   ],
   "source": [
    "import pandas as pd\n",
    "import seaborn as sns\n",
    "import numpy as np\n",
    "\n",
    "from google.colab import drive \n",
    "drive.mount('/content/gdrive')"
   ]
  },
  {
   "cell_type": "code",
   "execution_count": 9,
   "metadata": {
    "colab": {
     "base_uri": "https://localhost:8080/",
     "height": 217
    },
    "colab_type": "code",
    "executionInfo": {
     "elapsed": 1919,
     "status": "ok",
     "timestamp": 1579634503284,
     "user": {
      "displayName": "Santiago Jaramillo González",
      "photoUrl": "https://lh3.googleusercontent.com/a-/AAuE7mDyEr0lPQPVESu7gMkrsVq-Y6F_YGGYyisqjtvmEg=s64",
      "userId": "15826679613750846177"
     },
     "user_tz": 300
    },
    "id": "_RZPv4OjEec2",
    "outputId": "fa1378fb-a589-49d9-fa1a-85c41ee7fe04"
   },
   "outputs": [
    {
     "data": {
      "text/html": [
       "<div>\n",
       "<style scoped>\n",
       "    .dataframe tbody tr th:only-of-type {\n",
       "        vertical-align: middle;\n",
       "    }\n",
       "\n",
       "    .dataframe tbody tr th {\n",
       "        vertical-align: top;\n",
       "    }\n",
       "\n",
       "    .dataframe thead th {\n",
       "        text-align: right;\n",
       "    }\n",
       "</style>\n",
       "<table border=\"1\" class=\"dataframe\">\n",
       "  <thead>\n",
       "    <tr style=\"text-align: right;\">\n",
       "      <th></th>\n",
       "      <th>FixtureId</th>\n",
       "      <th>Competitor1CurrentGameScorePoints</th>\n",
       "      <th>Competitor1CurrentSetScore</th>\n",
       "      <th>Competitor1MatchScore</th>\n",
       "      <th>Competitor2CurrentGameScorePoints</th>\n",
       "      <th>Competitor2CurrentSetScore</th>\n",
       "      <th>Competitor2MatchScore</th>\n",
       "      <th>Serving</th>\n",
       "      <th>StateOfPlay</th>\n",
       "    </tr>\n",
       "  </thead>\n",
       "  <tbody>\n",
       "    <tr>\n",
       "      <th>0</th>\n",
       "      <td>3221713</td>\n",
       "      <td>0</td>\n",
       "      <td>0</td>\n",
       "      <td>0</td>\n",
       "      <td>0</td>\n",
       "      <td>0</td>\n",
       "      <td>0</td>\n",
       "      <td>2</td>\n",
       "      <td>PointInProgress</td>\n",
       "    </tr>\n",
       "    <tr>\n",
       "      <th>1</th>\n",
       "      <td>3221713</td>\n",
       "      <td>0</td>\n",
       "      <td>0</td>\n",
       "      <td>0</td>\n",
       "      <td>1</td>\n",
       "      <td>0</td>\n",
       "      <td>0</td>\n",
       "      <td>2</td>\n",
       "      <td>BetweenPoints</td>\n",
       "    </tr>\n",
       "    <tr>\n",
       "      <th>2</th>\n",
       "      <td>3221713</td>\n",
       "      <td>0</td>\n",
       "      <td>0</td>\n",
       "      <td>0</td>\n",
       "      <td>2</td>\n",
       "      <td>0</td>\n",
       "      <td>0</td>\n",
       "      <td>2</td>\n",
       "      <td>BetweenPoints</td>\n",
       "    </tr>\n",
       "    <tr>\n",
       "      <th>3</th>\n",
       "      <td>3221713</td>\n",
       "      <td>1</td>\n",
       "      <td>0</td>\n",
       "      <td>0</td>\n",
       "      <td>2</td>\n",
       "      <td>0</td>\n",
       "      <td>0</td>\n",
       "      <td>2</td>\n",
       "      <td>BetweenPoints</td>\n",
       "    </tr>\n",
       "    <tr>\n",
       "      <th>4</th>\n",
       "      <td>3221713</td>\n",
       "      <td>1</td>\n",
       "      <td>0</td>\n",
       "      <td>0</td>\n",
       "      <td>3</td>\n",
       "      <td>0</td>\n",
       "      <td>0</td>\n",
       "      <td>2</td>\n",
       "      <td>BetweenPoints</td>\n",
       "    </tr>\n",
       "  </tbody>\n",
       "</table>\n",
       "</div>"
      ],
      "text/plain": [
       "   FixtureId  Competitor1CurrentGameScorePoints  ...  Serving      StateOfPlay\n",
       "0    3221713                                  0  ...        2  PointInProgress\n",
       "1    3221713                                  0  ...        2    BetweenPoints\n",
       "2    3221713                                  0  ...        2    BetweenPoints\n",
       "3    3221713                                  1  ...        2    BetweenPoints\n",
       "4    3221713                                  1  ...        2    BetweenPoints\n",
       "\n",
       "[5 rows x 9 columns]"
      ]
     },
     "execution_count": 9,
     "metadata": {
      "tags": []
     },
     "output_type": "execute_result"
    }
   ],
   "source": [
    "data = pd.read_csv('gdrive/My Drive/Genius Sport test/tennis_match_data.csv')\n",
    "data.head()"
   ]
  },
  {
   "cell_type": "markdown",
   "metadata": {
    "colab_type": "text",
    "id": "9WnDkeZf0R8k"
   },
   "source": [
    "# Data\texploration"
   ]
  },
  {
   "cell_type": "markdown",
   "metadata": {
    "colab_type": "text",
    "id": "dp7z_1mX0chx"
   },
   "source": [
    "* How\tmany\tdata\tpoints\t(rows\tor\tindependent\tscoring\tlabels)\tdo\tyou\thave\tfor\teach\t\n",
    "fixture?\tDoes\tthis\tmean\tthat\teach\tfixture\thas\ta\tcomplete\trecord\tof\tall\tpossible\n",
    "scores?"
   ]
  },
  {
   "cell_type": "code",
   "execution_count": 10,
   "metadata": {
    "colab": {
     "base_uri": "https://localhost:8080/",
     "height": 297
    },
    "colab_type": "code",
    "executionInfo": {
     "elapsed": 1278,
     "status": "ok",
     "timestamp": 1579634515672,
     "user": {
      "displayName": "Santiago Jaramillo González",
      "photoUrl": "https://lh3.googleusercontent.com/a-/AAuE7mDyEr0lPQPVESu7gMkrsVq-Y6F_YGGYyisqjtvmEg=s64",
      "userId": "15826679613750846177"
     },
     "user_tz": 300
    },
    "id": "hRgB0iz40apV",
    "outputId": "7c148136-06a0-4201-ac12-978f92ed65f0"
   },
   "outputs": [
    {
     "name": "stdout",
     "output_type": "stream",
     "text": [
      "mean: 136\n"
     ]
    },
    {
     "data": {
      "text/plain": [
       "<matplotlib.axes._subplots.AxesSubplot at 0x7fa0a0379ac8>"
      ]
     },
     "execution_count": 10,
     "metadata": {
      "tags": []
     },
     "output_type": "execute_result"
    },
    {
     "data": {
      "image/png": "[encoded data removed]",
      "text/plain": [
       "<Figure size 432x288 with 1 Axes>"
      ]
     },
     "metadata": {
      "tags": []
     },
     "output_type": "display_data"
    }
   ],
   "source": [
    "temp=data.groupby('FixtureId')['FixtureId'].count()\n",
    "print('mean: {}'.format(round(temp.mean())))\n",
    "temp.hist()"
   ]
  },
  {
   "cell_type": "markdown",
   "metadata": {
    "colab_type": "text",
    "id": "jXbhhGJB0bIq"
   },
   "source": [
    "* What\tis\tthe\tsize\tof\tthe\tdata\tset?\tHow\tmany\ttotal\tfixtures\tare\tthere?"
   ]
  },
  {
   "cell_type": "code",
   "execution_count": 11,
   "metadata": {
    "colab": {
     "base_uri": "https://localhost:8080/",
     "height": 50
    },
    "colab_type": "code",
    "executionInfo": {
     "elapsed": 1203,
     "status": "ok",
     "timestamp": 1579634520527,
     "user": {
      "displayName": "Santiago Jaramillo González",
      "photoUrl": "https://lh3.googleusercontent.com/a-/AAuE7mDyEr0lPQPVESu7gMkrsVq-Y6F_YGGYyisqjtvmEg=s64",
      "userId": "15826679613750846177"
     },
     "user_tz": 300
    },
    "id": "KZAr-Gbx2KV_",
    "outputId": "24c4afc1-e8d1-49ae-8801-3e2eaf6e2a9a"
   },
   "outputs": [
    {
     "name": "stdout",
     "output_type": "stream",
     "text": [
      "Number of fixtures: 4497\n",
      "Total numbers of rows or data points: 610381\n"
     ]
    }
   ],
   "source": [
    "print('Number of fixtures: {}'.format(data.FixtureId.nunique()))\n",
    "print('Total numbers of rows or data points: {}'.format(data.FixtureId.count()))"
   ]
  },
  {
   "cell_type": "markdown",
   "metadata": {
    "colab_type": "text",
    "id": "tbGn7vv_0beR"
   },
   "source": [
    "* Does\teach\tfixtureId\thave\ta\tmatch\twinner?"
   ]
  },
  {
   "cell_type": "code",
   "execution_count": 12,
   "metadata": {
    "colab": {
     "base_uri": "https://localhost:8080/",
     "height": 50
    },
    "colab_type": "code",
    "executionInfo": {
     "elapsed": 1215,
     "status": "ok",
     "timestamp": 1579634535473,
     "user": {
      "displayName": "Santiago Jaramillo González",
      "photoUrl": "https://lh3.googleusercontent.com/a-/AAuE7mDyEr0lPQPVESu7gMkrsVq-Y6F_YGGYyisqjtvmEg=s64",
      "userId": "15826679613750846177"
     },
     "user_tz": 300
    },
    "id": "Hud1qKl55KD3",
    "outputId": "98013f5a-3065-4621-cd18-505ab4bf16d0"
   },
   "outputs": [
    {
     "name": "stdout",
     "output_type": "stream",
     "text": [
      "Number of FixtureId that have a winner: 4497\n",
      "Total numer of FixtureId: 4497\n"
     ]
    }
   ],
   "source": [
    "temp=data[data['StateOfPlay'].isin(['WinnerCompetitorOne','WinnerCompetitorTwo'])][['FixtureId','StateOfPlay']].reset_index(drop=True)\n",
    "print('Number of FixtureId that have a winner: {}'.format(temp.FixtureId.nunique()))\n",
    "print('Total numer of FixtureId: {}'.format(data.FixtureId.nunique()))"
   ]
  },
  {
   "cell_type": "markdown",
   "metadata": {
    "colab_type": "text",
    "id": "uZDtPJNa8LAc"
   },
   "source": [
    "* Have\ta look\tat\tthe\tStateOfPlay\tcolumn.\tWhat\tare\tthe\tpossible\tvalues\tin this\t\n",
    "column?"
   ]
  },
  {
   "cell_type": "code",
   "execution_count": 13,
   "metadata": {
    "colab": {
     "base_uri": "https://localhost:8080/",
     "height": 200
    },
    "colab_type": "code",
    "executionInfo": {
     "elapsed": 1849,
     "status": "ok",
     "timestamp": 1579634547924,
     "user": {
      "displayName": "Santiago Jaramillo González",
      "photoUrl": "https://lh3.googleusercontent.com/a-/AAuE7mDyEr0lPQPVESu7gMkrsVq-Y6F_YGGYyisqjtvmEg=s64",
      "userId": "15826679613750846177"
     },
     "user_tz": 300
    },
    "id": "3fFjQn5j8Tpa",
    "outputId": "db77f98a-b232-4173-90f6-1a5d45fedee6"
   },
   "outputs": [
    {
     "name": "stdout",
     "output_type": "stream",
     "text": [
      "StateOfPlay column values: \n",
      "\n",
      "PointInProgress\n",
      "BetweenPoints\n",
      "WinnerCompetitorTwo\n",
      "WinnerCompetitorOne\n",
      "ShortDelay\n",
      "PlaySuspended\n",
      "Challenge\n",
      "MedicalTimeoutCompetitorTwo\n",
      "MedicalTimeoutCompetitorOne\n"
     ]
    }
   ],
   "source": [
    "list_=data['StateOfPlay'].unique()\n",
    "\n",
    "print('StateOfPlay column values: \\n')\n",
    "for i in list_:\n",
    "  print(i) "
   ]
  },
  {
   "cell_type": "markdown",
   "metadata": {
    "colab_type": "text",
    "id": "B8imOBh6_9ri"
   },
   "source": [
    "*  What\teffect\tmight\ta\t‘MedicalTimeoutCompetitorOne[Two]’\thave\ton\tthe\t\n",
    "model?"
   ]
  },
  {
   "cell_type": "code",
   "execution_count": 16,
   "metadata": {
    "colab": {
     "base_uri": "https://localhost:8080/",
     "height": 197
    },
    "colab_type": "code",
    "executionInfo": {
     "elapsed": 691,
     "status": "ok",
     "timestamp": 1579634599872,
     "user": {
      "displayName": "Santiago Jaramillo González",
      "photoUrl": "https://lh3.googleusercontent.com/a-/AAuE7mDyEr0lPQPVESu7gMkrsVq-Y6F_YGGYyisqjtvmEg=s64",
      "userId": "15826679613750846177"
     },
     "user_tz": 300
    },
    "id": "qWjE9h6k8Tzv",
    "outputId": "dec51048-885f-4544-c4f0-c9a73ca69333"
   },
   "outputs": [
    {
     "data": {
      "text/html": [
       "<div>\n",
       "<style scoped>\n",
       "    .dataframe tbody tr th:only-of-type {\n",
       "        vertical-align: middle;\n",
       "    }\n",
       "\n",
       "    .dataframe tbody tr th {\n",
       "        vertical-align: top;\n",
       "    }\n",
       "\n",
       "    .dataframe thead th {\n",
       "        text-align: right;\n",
       "    }\n",
       "</style>\n",
       "<table border=\"1\" class=\"dataframe\">\n",
       "  <thead>\n",
       "    <tr style=\"text-align: right;\">\n",
       "      <th></th>\n",
       "      <th>FixtureId</th>\n",
       "      <th>StateOfPlay</th>\n",
       "      <th>Winner</th>\n",
       "    </tr>\n",
       "  </thead>\n",
       "  <tbody>\n",
       "    <tr>\n",
       "      <th>69302</th>\n",
       "      <td>3940718</td>\n",
       "      <td>MedicalTimeoutCompetitorTwo</td>\n",
       "      <td>WinnerCompetitorOne</td>\n",
       "    </tr>\n",
       "    <tr>\n",
       "      <th>122666</th>\n",
       "      <td>3962341</td>\n",
       "      <td>MedicalTimeoutCompetitorTwo</td>\n",
       "      <td>WinnerCompetitorTwo</td>\n",
       "    </tr>\n",
       "    <tr>\n",
       "      <th>542453</th>\n",
       "      <td>4249614</td>\n",
       "      <td>MedicalTimeoutCompetitorOne</td>\n",
       "      <td>WinnerCompetitorOne</td>\n",
       "    </tr>\n",
       "    <tr>\n",
       "      <th>543637</th>\n",
       "      <td>4249628</td>\n",
       "      <td>MedicalTimeoutCompetitorOne</td>\n",
       "      <td>WinnerCompetitorTwo</td>\n",
       "    </tr>\n",
       "    <tr>\n",
       "      <th>604486</th>\n",
       "      <td>4272686</td>\n",
       "      <td>MedicalTimeoutCompetitorTwo</td>\n",
       "      <td>WinnerCompetitorOne</td>\n",
       "    </tr>\n",
       "  </tbody>\n",
       "</table>\n",
       "</div>"
      ],
      "text/plain": [
       "        FixtureId                  StateOfPlay               Winner\n",
       "69302     3940718  MedicalTimeoutCompetitorTwo  WinnerCompetitorOne\n",
       "122666    3962341  MedicalTimeoutCompetitorTwo  WinnerCompetitorTwo\n",
       "542453    4249614  MedicalTimeoutCompetitorOne  WinnerCompetitorOne\n",
       "543637    4249628  MedicalTimeoutCompetitorOne  WinnerCompetitorTwo\n",
       "604486    4272686  MedicalTimeoutCompetitorTwo  WinnerCompetitorOne"
      ]
     },
     "execution_count": 16,
     "metadata": {
      "tags": []
     },
     "output_type": "execute_result"
    }
   ],
   "source": [
    "temp=data[data['StateOfPlay'].isin(['WinnerCompetitorOne','WinnerCompetitorTwo'])][['FixtureId','StateOfPlay']]\n",
    "temp.set_index('FixtureId',inplace=True)\n",
    "winners_dict=temp.to_dict()['StateOfPlay']\n",
    "# Add a column that indicates the match winner\n",
    "data['Winner'] = data['FixtureId'].apply(lambda x: winners_dict[x])\n",
    "temp_2=data[data['StateOfPlay'].isin(['MedicalTimeoutCompetitorOne','MedicalTimeoutCompetitorTwo'])][['FixtureId','StateOfPlay','Winner']]\n",
    "temp_2"
   ]
  },
  {
   "cell_type": "code",
   "execution_count": 17,
   "metadata": {
    "colab": {
     "base_uri": "https://localhost:8080/",
     "height": 278
    },
    "colab_type": "code",
    "executionInfo": {
     "elapsed": 719,
     "status": "ok",
     "timestamp": 1579634614721,
     "user": {
      "displayName": "Santiago Jaramillo González",
      "photoUrl": "https://lh3.googleusercontent.com/a-/AAuE7mDyEr0lPQPVESu7gMkrsVq-Y6F_YGGYyisqjtvmEg=s64",
      "userId": "15826679613750846177"
     },
     "user_tz": 300
    },
    "id": "E6kkToSd9FnO",
    "outputId": "856c7428-c86f-4484-ef17-a240904f1d85"
   },
   "outputs": [
    {
     "data": {
      "image/png": "[encoded data removed]",
      "text/plain": [
       "<Figure size 432x288 with 1 Axes>"
      ]
     },
     "metadata": {
      "tags": []
     },
     "output_type": "display_data"
    }
   ],
   "source": [
    "ax = sns.countplot(x=\"StateOfPlay\", data=temp_2, hue='Winner', palette=\"RdBu\",dodge=True)"
   ]
  },
  {
   "cell_type": "markdown",
   "metadata": {
    "colab_type": "text",
    "id": "xyjLADLwFSZx"
   },
   "source": [
    "The probability of winning the match after requesting medical attention is a bit low (With the small amount of samples we have,we could say that is about 40 %)"
   ]
  },
  {
   "cell_type": "markdown",
   "metadata": {
    "colab_type": "text",
    "id": "7aqyezPSLjRj"
   },
   "source": [
    "* Number of sets per game"
   ]
  },
  {
   "cell_type": "markdown",
   "metadata": {
    "colab_type": "text",
    "id": "t-CW9Efn0XxH"
   },
   "source": [
    "# Data preprocessing"
   ]
  },
  {
   "cell_type": "markdown",
   "metadata": {
    "colab_type": "text",
    "id": "5TCIDlWnIzSt"
   },
   "source": [
    "* Add a column with the current set"
   ]
  },
  {
   "cell_type": "code",
   "execution_count": 0,
   "metadata": {
    "colab": {},
    "colab_type": "code",
    "id": "TcXEFHaHcl9O"
   },
   "outputs": [],
   "source": [
    "data['CurrentSet']=data['Competitor1MatchScore']+data['Competitor2MatchScore']+1"
   ]
  },
  {
   "cell_type": "markdown",
   "metadata": {
    "colab_type": "text",
    "id": "QHjXmdThMFsp"
   },
   "source": [
    "* Number of sets per game"
   ]
  },
  {
   "cell_type": "code",
   "execution_count": 20,
   "metadata": {
    "colab": {
     "base_uri": "https://localhost:8080/",
     "height": 33
    },
    "colab_type": "code",
    "executionInfo": {
     "elapsed": 791,
     "status": "ok",
     "timestamp": 1579634668661,
     "user": {
      "displayName": "Santiago Jaramillo González",
      "photoUrl": "https://lh3.googleusercontent.com/a-/AAuE7mDyEr0lPQPVESu7gMkrsVq-Y6F_YGGYyisqjtvmEg=s64",
      "userId": "15826679613750846177"
     },
     "user_tz": 300
    },
    "id": "8qcwpVJ2Lzvh",
    "outputId": "f76bf64b-414c-432a-dc07-4b20e3b5f890"
   },
   "outputs": [
    {
     "data": {
      "text/plain": [
       "3"
      ]
     },
     "execution_count": 20,
     "metadata": {
      "tags": []
     },
     "output_type": "execute_result"
    }
   ],
   "source": [
    "data.groupby('FixtureId')['CurrentSet'].max().max()-1"
   ]
  },
  {
   "cell_type": "code",
   "execution_count": 0,
   "metadata": {
    "colab": {},
    "colab_type": "code",
    "id": "eRDQMY-okGE5"
   },
   "outputs": [],
   "source": []
  },
  {
   "cell_type": "markdown",
   "metadata": {
    "colab_type": "text",
    "id": "WGZwE27DI9Sw"
   },
   "source": [
    "* Add a column with the current game"
   ]
  },
  {
   "cell_type": "code",
   "execution_count": 0,
   "metadata": {
    "colab": {},
    "colab_type": "code",
    "id": "NUTbQSrrI90I"
   },
   "outputs": [],
   "source": [
    "data['CurrentGame']=data['Competitor1CurrentSetScore']+data['Competitor2CurrentSetScore']+1"
   ]
  },
  {
   "cell_type": "code",
   "execution_count": 0,
   "metadata": {
    "colab": {},
    "colab_type": "code",
    "id": "SEWPUk99kKop"
   },
   "outputs": [],
   "source": [
    "#data.head()"
   ]
  },
  {
   "cell_type": "markdown",
   "metadata": {
    "colab_type": "text",
    "id": "J08nxEZoJRFF"
   },
   "source": [
    "* Add a column that indicates who won the first set\n",
    "\n"
   ]
  },
  {
   "cell_type": "code",
   "execution_count": 0,
   "metadata": {
    "colab": {},
    "colab_type": "code",
    "id": "IUPSu0TMI95q"
   },
   "outputs": [],
   "source": [
    "# Get a dictionary {FixtureId:Who won the first set}\n",
    "temp=data[data['CurrentSet']==2][['FixtureId','Competitor1MatchScore']]\n",
    "temp=temp.groupby(['FixtureId']).max()\n",
    "temp['FirstSetWinner'] = temp['Competitor1MatchScore'].apply(lambda x : 'Competitor1' if x==1 else 'Competitor2')\n",
    "set_winner_dict=temp.to_dict()['FirstSetWinner']\n",
    "# Add a column to the data set with that information\n",
    "data['FirstSetWinner'] = np.nan\n",
    "data['FirstSetWinner']=data['FixtureId'].apply(lambda x : set_winner_dict[x] if x in set_winner_dict else 'N/A')\n",
    "data.loc[data[data[\"CurrentSet\"]==1].index.values, \"FirstSetWinner\"] = 'N/A'"
   ]
  },
  {
   "cell_type": "code",
   "execution_count": 26,
   "metadata": {
    "colab": {
     "base_uri": "https://localhost:8080/",
     "height": 33
    },
    "colab_type": "code",
    "executionInfo": {
     "elapsed": 807,
     "status": "ok",
     "timestamp": 1579634789399,
     "user": {
      "displayName": "Santiago Jaramillo González",
      "photoUrl": "https://lh3.googleusercontent.com/a-/AAuE7mDyEr0lPQPVESu7gMkrsVq-Y6F_YGGYyisqjtvmEg=s64",
      "userId": "15826679613750846177"
     },
     "user_tz": 300
    },
    "id": "0ndQ880pkX1P",
    "outputId": "f002db93-8931-4865-a7fe-03876a9fc9c9"
   },
   "outputs": [
    {
     "data": {
      "text/plain": [
       "array(['N/A', 'Competitor1', 'Competitor2'], dtype=object)"
      ]
     },
     "execution_count": 26,
     "metadata": {
      "tags": []
     },
     "output_type": "execute_result"
    }
   ],
   "source": [
    "data['FirstSetWinner'].unique()"
   ]
  },
  {
   "cell_type": "code",
   "execution_count": 115,
   "metadata": {
    "colab": {
     "base_uri": "https://localhost:8080/",
     "height": 217
    },
    "colab_type": "code",
    "executionInfo": {
     "elapsed": 3179,
     "status": "ok",
     "timestamp": 1579584601668,
     "user": {
      "displayName": "Santiago Jaramillo González",
      "photoUrl": "https://lh3.googleusercontent.com/a-/AAuE7mDyEr0lPQPVESu7gMkrsVq-Y6F_YGGYyisqjtvmEg=s64",
      "userId": "15826679613750846177"
     },
     "user_tz": 300
    },
    "id": "4DvH1aalI973",
    "outputId": "537ca955-fc82-47dc-9280-e687bf046d75"
   },
   "outputs": [
    {
     "data": {
      "text/html": [
       "<div>\n",
       "<style scoped>\n",
       "    .dataframe tbody tr th:only-of-type {\n",
       "        vertical-align: middle;\n",
       "    }\n",
       "\n",
       "    .dataframe tbody tr th {\n",
       "        vertical-align: top;\n",
       "    }\n",
       "\n",
       "    .dataframe thead th {\n",
       "        text-align: right;\n",
       "    }\n",
       "</style>\n",
       "<table border=\"1\" class=\"dataframe\">\n",
       "  <thead>\n",
       "    <tr style=\"text-align: right;\">\n",
       "      <th></th>\n",
       "      <th>FixtureId</th>\n",
       "      <th>Competitor1CurrentGameScorePoints</th>\n",
       "      <th>Competitor1CurrentSetScore</th>\n",
       "      <th>Competitor1MatchScore</th>\n",
       "      <th>Competitor2CurrentGameScorePoints</th>\n",
       "      <th>Competitor2CurrentSetScore</th>\n",
       "      <th>Competitor2MatchScore</th>\n",
       "      <th>Serving</th>\n",
       "      <th>StateOfPlay</th>\n",
       "      <th>Winner</th>\n",
       "      <th>CurrentSet</th>\n",
       "      <th>CurrentGame</th>\n",
       "      <th>FirstSetWinner</th>\n",
       "    </tr>\n",
       "  </thead>\n",
       "  <tbody>\n",
       "    <tr>\n",
       "      <th>0</th>\n",
       "      <td>3221713</td>\n",
       "      <td>0</td>\n",
       "      <td>0</td>\n",
       "      <td>0</td>\n",
       "      <td>0</td>\n",
       "      <td>0</td>\n",
       "      <td>0</td>\n",
       "      <td>2</td>\n",
       "      <td>PointInProgress</td>\n",
       "      <td>WinnerCompetitorTwo</td>\n",
       "      <td>1</td>\n",
       "      <td>1</td>\n",
       "      <td>N/A</td>\n",
       "    </tr>\n",
       "    <tr>\n",
       "      <th>1</th>\n",
       "      <td>3221713</td>\n",
       "      <td>0</td>\n",
       "      <td>0</td>\n",
       "      <td>0</td>\n",
       "      <td>1</td>\n",
       "      <td>0</td>\n",
       "      <td>0</td>\n",
       "      <td>2</td>\n",
       "      <td>BetweenPoints</td>\n",
       "      <td>WinnerCompetitorTwo</td>\n",
       "      <td>1</td>\n",
       "      <td>1</td>\n",
       "      <td>N/A</td>\n",
       "    </tr>\n",
       "    <tr>\n",
       "      <th>2</th>\n",
       "      <td>3221713</td>\n",
       "      <td>0</td>\n",
       "      <td>0</td>\n",
       "      <td>0</td>\n",
       "      <td>2</td>\n",
       "      <td>0</td>\n",
       "      <td>0</td>\n",
       "      <td>2</td>\n",
       "      <td>BetweenPoints</td>\n",
       "      <td>WinnerCompetitorTwo</td>\n",
       "      <td>1</td>\n",
       "      <td>1</td>\n",
       "      <td>N/A</td>\n",
       "    </tr>\n",
       "    <tr>\n",
       "      <th>3</th>\n",
       "      <td>3221713</td>\n",
       "      <td>1</td>\n",
       "      <td>0</td>\n",
       "      <td>0</td>\n",
       "      <td>2</td>\n",
       "      <td>0</td>\n",
       "      <td>0</td>\n",
       "      <td>2</td>\n",
       "      <td>BetweenPoints</td>\n",
       "      <td>WinnerCompetitorTwo</td>\n",
       "      <td>1</td>\n",
       "      <td>1</td>\n",
       "      <td>N/A</td>\n",
       "    </tr>\n",
       "    <tr>\n",
       "      <th>4</th>\n",
       "      <td>3221713</td>\n",
       "      <td>1</td>\n",
       "      <td>0</td>\n",
       "      <td>0</td>\n",
       "      <td>3</td>\n",
       "      <td>0</td>\n",
       "      <td>0</td>\n",
       "      <td>2</td>\n",
       "      <td>BetweenPoints</td>\n",
       "      <td>WinnerCompetitorTwo</td>\n",
       "      <td>1</td>\n",
       "      <td>1</td>\n",
       "      <td>N/A</td>\n",
       "    </tr>\n",
       "  </tbody>\n",
       "</table>\n",
       "</div>"
      ],
      "text/plain": [
       "   FixtureId  Competitor1CurrentGameScorePoints  ...  CurrentGame  FirstSetWinner\n",
       "0    3221713                                  0  ...            1             N/A\n",
       "1    3221713                                  0  ...            1             N/A\n",
       "2    3221713                                  0  ...            1             N/A\n",
       "3    3221713                                  1  ...            1             N/A\n",
       "4    3221713                                  1  ...            1             N/A\n",
       "\n",
       "[5 rows x 13 columns]"
      ]
     },
     "execution_count": 115,
     "metadata": {
      "tags": []
     },
     "output_type": "execute_result"
    }
   ],
   "source": [
    "data.head()"
   ]
  },
  {
   "cell_type": "markdown",
   "metadata": {
    "colab_type": "text",
    "id": "-ndRRU4qY4ga"
   },
   "source": [
    "* Add a column that indicates who won each game and the win rate of each player"
   ]
  },
  {
   "cell_type": "code",
   "execution_count": 0,
   "metadata": {
    "colab": {},
    "colab_type": "code",
    "id": "HjjHJcK25aRA"
   },
   "outputs": [],
   "source": [
    "\n",
    "lista=[]\n",
    "l=len(data)\n",
    "for i in range(l):\n",
    "  if data.iloc[i,8] in ['WinnerCompetitorTwo','WinnerCompetitorOne']:\n",
    "    lista.append(np.nan)\n",
    "  elif (data.iloc[i+1,1] - data.iloc[i,1] ) == 1:\n",
    "    lista.append('Competitor1')\n",
    "  else:\n",
    "    lista.append('Competitor2')"
   ]
  },
  {
   "cell_type": "code",
   "execution_count": 0,
   "metadata": {
    "colab": {},
    "colab_type": "code",
    "id": "QTLj3bkoBvhF"
   },
   "outputs": [],
   "source": [
    "data['GameWinner'] = lista"
   ]
  },
  {
   "cell_type": "code",
   "execution_count": 29,
   "metadata": {
    "colab": {
     "base_uri": "https://localhost:8080/",
     "height": 217
    },
    "colab_type": "code",
    "executionInfo": {
     "elapsed": 779,
     "status": "ok",
     "timestamp": 1579634872883,
     "user": {
      "displayName": "Santiago Jaramillo González",
      "photoUrl": "https://lh3.googleusercontent.com/a-/AAuE7mDyEr0lPQPVESu7gMkrsVq-Y6F_YGGYyisqjtvmEg=s64",
      "userId": "15826679613750846177"
     },
     "user_tz": 300
    },
    "id": "1xM6loNByEa0",
    "outputId": "91793703-3492-4448-c100-ff106c21593b"
   },
   "outputs": [
    {
     "data": {
      "text/html": [
       "<div>\n",
       "<style scoped>\n",
       "    .dataframe tbody tr th:only-of-type {\n",
       "        vertical-align: middle;\n",
       "    }\n",
       "\n",
       "    .dataframe tbody tr th {\n",
       "        vertical-align: top;\n",
       "    }\n",
       "\n",
       "    .dataframe thead th {\n",
       "        text-align: right;\n",
       "    }\n",
       "</style>\n",
       "<table border=\"1\" class=\"dataframe\">\n",
       "  <thead>\n",
       "    <tr style=\"text-align: right;\">\n",
       "      <th></th>\n",
       "      <th>FixtureId</th>\n",
       "      <th>Competitor1CurrentGameScorePoints</th>\n",
       "      <th>Competitor1CurrentSetScore</th>\n",
       "      <th>Competitor1MatchScore</th>\n",
       "      <th>Competitor2CurrentGameScorePoints</th>\n",
       "      <th>Competitor2CurrentSetScore</th>\n",
       "      <th>Competitor2MatchScore</th>\n",
       "      <th>Serving</th>\n",
       "      <th>StateOfPlay</th>\n",
       "      <th>Winner</th>\n",
       "      <th>CurrentSet</th>\n",
       "      <th>CurrentGame</th>\n",
       "      <th>FirstSetWinner</th>\n",
       "      <th>GameWinner</th>\n",
       "    </tr>\n",
       "  </thead>\n",
       "  <tbody>\n",
       "    <tr>\n",
       "      <th>0</th>\n",
       "      <td>3221713</td>\n",
       "      <td>0</td>\n",
       "      <td>0</td>\n",
       "      <td>0</td>\n",
       "      <td>0</td>\n",
       "      <td>0</td>\n",
       "      <td>0</td>\n",
       "      <td>2</td>\n",
       "      <td>PointInProgress</td>\n",
       "      <td>WinnerCompetitorTwo</td>\n",
       "      <td>1</td>\n",
       "      <td>1</td>\n",
       "      <td>N/A</td>\n",
       "      <td>Competitor2</td>\n",
       "    </tr>\n",
       "    <tr>\n",
       "      <th>1</th>\n",
       "      <td>3221713</td>\n",
       "      <td>0</td>\n",
       "      <td>0</td>\n",
       "      <td>0</td>\n",
       "      <td>1</td>\n",
       "      <td>0</td>\n",
       "      <td>0</td>\n",
       "      <td>2</td>\n",
       "      <td>BetweenPoints</td>\n",
       "      <td>WinnerCompetitorTwo</td>\n",
       "      <td>1</td>\n",
       "      <td>1</td>\n",
       "      <td>N/A</td>\n",
       "      <td>Competitor2</td>\n",
       "    </tr>\n",
       "    <tr>\n",
       "      <th>2</th>\n",
       "      <td>3221713</td>\n",
       "      <td>0</td>\n",
       "      <td>0</td>\n",
       "      <td>0</td>\n",
       "      <td>2</td>\n",
       "      <td>0</td>\n",
       "      <td>0</td>\n",
       "      <td>2</td>\n",
       "      <td>BetweenPoints</td>\n",
       "      <td>WinnerCompetitorTwo</td>\n",
       "      <td>1</td>\n",
       "      <td>1</td>\n",
       "      <td>N/A</td>\n",
       "      <td>Competitor1</td>\n",
       "    </tr>\n",
       "    <tr>\n",
       "      <th>3</th>\n",
       "      <td>3221713</td>\n",
       "      <td>1</td>\n",
       "      <td>0</td>\n",
       "      <td>0</td>\n",
       "      <td>2</td>\n",
       "      <td>0</td>\n",
       "      <td>0</td>\n",
       "      <td>2</td>\n",
       "      <td>BetweenPoints</td>\n",
       "      <td>WinnerCompetitorTwo</td>\n",
       "      <td>1</td>\n",
       "      <td>1</td>\n",
       "      <td>N/A</td>\n",
       "      <td>Competitor2</td>\n",
       "    </tr>\n",
       "    <tr>\n",
       "      <th>4</th>\n",
       "      <td>3221713</td>\n",
       "      <td>1</td>\n",
       "      <td>0</td>\n",
       "      <td>0</td>\n",
       "      <td>3</td>\n",
       "      <td>0</td>\n",
       "      <td>0</td>\n",
       "      <td>2</td>\n",
       "      <td>BetweenPoints</td>\n",
       "      <td>WinnerCompetitorTwo</td>\n",
       "      <td>1</td>\n",
       "      <td>1</td>\n",
       "      <td>N/A</td>\n",
       "      <td>Competitor1</td>\n",
       "    </tr>\n",
       "  </tbody>\n",
       "</table>\n",
       "</div>"
      ],
      "text/plain": [
       "   FixtureId  Competitor1CurrentGameScorePoints  ...  FirstSetWinner   GameWinner\n",
       "0    3221713                                  0  ...             N/A  Competitor2\n",
       "1    3221713                                  0  ...             N/A  Competitor2\n",
       "2    3221713                                  0  ...             N/A  Competitor1\n",
       "3    3221713                                  1  ...             N/A  Competitor2\n",
       "4    3221713                                  1  ...             N/A  Competitor1\n",
       "\n",
       "[5 rows x 14 columns]"
      ]
     },
     "execution_count": 29,
     "metadata": {
      "tags": []
     },
     "output_type": "execute_result"
    }
   ],
   "source": [
    "data.head()"
   ]
  },
  {
   "cell_type": "markdown",
   "metadata": {
    "colab_type": "text",
    "id": "wEL2j6eA1Jxq"
   },
   "source": [
    "* Add a column that indicates the how many points have been played in each match"
   ]
  },
  {
   "cell_type": "code",
   "execution_count": 0,
   "metadata": {
    "colab": {},
    "colab_type": "code",
    "id": "HVz3fnS01YSC"
   },
   "outputs": [],
   "source": [
    "l=data['FixtureId'].unique()\n",
    "#data['GameNumber']=np.nan\n",
    "lista=[]\n",
    "for i in l:\n",
    "  temp = data[data['FixtureId']==i]\n",
    "  cont=0\n",
    "  for i in range(len(temp)):\n",
    "    cont+=1\n",
    "    lista.append(cont)\n"
   ]
  },
  {
   "cell_type": "code",
   "execution_count": 0,
   "metadata": {
    "colab": {},
    "colab_type": "code",
    "id": "z-q2qaI71YWD"
   },
   "outputs": [],
   "source": [
    "data['GameNumber']=lista\n"
   ]
  },
  {
   "cell_type": "markdown",
   "metadata": {
    "colab_type": "text",
    "id": "_yLrvX6h-yyq"
   },
   "source": [
    "* Win points rate of each playes"
   ]
  },
  {
   "cell_type": "code",
   "execution_count": 0,
   "metadata": {
    "colab": {},
    "colab_type": "code",
    "id": "h9l5uydfyEd-"
   },
   "outputs": [],
   "source": [
    "l=data['FixtureId'].unique()\n",
    "lista1=[]\n",
    "lista2=[]\n",
    "for i in l:\n",
    "  temp = data[data['FixtureId']==i]\n",
    "  #first_index=temp.index.values[0]\n",
    "  for i in range(len(temp)):\n",
    "    \n",
    "    win_percentage= sum(temp.iloc[0:i+1,:]['GameWinner']=='Competitor1')/(i+1)\n",
    "    lista1.append(win_percentage)\n",
    "    lista2.append(1-win_percentage)"
   ]
  },
  {
   "cell_type": "code",
   "execution_count": 0,
   "metadata": {
    "colab": {},
    "colab_type": "code",
    "id": "E2wF1TdTyEhD"
   },
   "outputs": [],
   "source": [
    "data['PointsWonCompetitor1']=lista1\n",
    "data['PointsWonCompetitor2']=lista2\n"
   ]
  },
  {
   "cell_type": "code",
   "execution_count": 34,
   "metadata": {
    "colab": {
     "base_uri": "https://localhost:8080/",
     "height": 217
    },
    "colab_type": "code",
    "executionInfo": {
     "elapsed": 1048,
     "status": "ok",
     "timestamp": 1579635662000,
     "user": {
      "displayName": "Santiago Jaramillo González",
      "photoUrl": "https://lh3.googleusercontent.com/a-/AAuE7mDyEr0lPQPVESu7gMkrsVq-Y6F_YGGYyisqjtvmEg=s64",
      "userId": "15826679613750846177"
     },
     "user_tz": 300
    },
    "id": "msAPZzrlrNL7",
    "outputId": "9df4029c-0927-4be4-9ba0-946b2083ca81"
   },
   "outputs": [
    {
     "data": {
      "text/html": [
       "<div>\n",
       "<style scoped>\n",
       "    .dataframe tbody tr th:only-of-type {\n",
       "        vertical-align: middle;\n",
       "    }\n",
       "\n",
       "    .dataframe tbody tr th {\n",
       "        vertical-align: top;\n",
       "    }\n",
       "\n",
       "    .dataframe thead th {\n",
       "        text-align: right;\n",
       "    }\n",
       "</style>\n",
       "<table border=\"1\" class=\"dataframe\">\n",
       "  <thead>\n",
       "    <tr style=\"text-align: right;\">\n",
       "      <th></th>\n",
       "      <th>FixtureId</th>\n",
       "      <th>Competitor1CurrentGameScorePoints</th>\n",
       "      <th>Competitor1CurrentSetScore</th>\n",
       "      <th>Competitor1MatchScore</th>\n",
       "      <th>Competitor2CurrentGameScorePoints</th>\n",
       "      <th>Competitor2CurrentSetScore</th>\n",
       "      <th>Competitor2MatchScore</th>\n",
       "      <th>Serving</th>\n",
       "      <th>StateOfPlay</th>\n",
       "      <th>Winner</th>\n",
       "      <th>CurrentSet</th>\n",
       "      <th>CurrentGame</th>\n",
       "      <th>FirstSetWinner</th>\n",
       "      <th>GameWinner</th>\n",
       "      <th>GameNumber</th>\n",
       "      <th>PointsWonCompetitor1</th>\n",
       "      <th>PointsWonCompetitor2</th>\n",
       "    </tr>\n",
       "  </thead>\n",
       "  <tbody>\n",
       "    <tr>\n",
       "      <th>0</th>\n",
       "      <td>3221713</td>\n",
       "      <td>0</td>\n",
       "      <td>0</td>\n",
       "      <td>0</td>\n",
       "      <td>0</td>\n",
       "      <td>0</td>\n",
       "      <td>0</td>\n",
       "      <td>2</td>\n",
       "      <td>PointInProgress</td>\n",
       "      <td>WinnerCompetitorTwo</td>\n",
       "      <td>1</td>\n",
       "      <td>1</td>\n",
       "      <td>N/A</td>\n",
       "      <td>Competitor2</td>\n",
       "      <td>1</td>\n",
       "      <td>0.000000</td>\n",
       "      <td>1.000000</td>\n",
       "    </tr>\n",
       "    <tr>\n",
       "      <th>1</th>\n",
       "      <td>3221713</td>\n",
       "      <td>0</td>\n",
       "      <td>0</td>\n",
       "      <td>0</td>\n",
       "      <td>1</td>\n",
       "      <td>0</td>\n",
       "      <td>0</td>\n",
       "      <td>2</td>\n",
       "      <td>BetweenPoints</td>\n",
       "      <td>WinnerCompetitorTwo</td>\n",
       "      <td>1</td>\n",
       "      <td>1</td>\n",
       "      <td>N/A</td>\n",
       "      <td>Competitor2</td>\n",
       "      <td>2</td>\n",
       "      <td>0.000000</td>\n",
       "      <td>1.000000</td>\n",
       "    </tr>\n",
       "    <tr>\n",
       "      <th>2</th>\n",
       "      <td>3221713</td>\n",
       "      <td>0</td>\n",
       "      <td>0</td>\n",
       "      <td>0</td>\n",
       "      <td>2</td>\n",
       "      <td>0</td>\n",
       "      <td>0</td>\n",
       "      <td>2</td>\n",
       "      <td>BetweenPoints</td>\n",
       "      <td>WinnerCompetitorTwo</td>\n",
       "      <td>1</td>\n",
       "      <td>1</td>\n",
       "      <td>N/A</td>\n",
       "      <td>Competitor1</td>\n",
       "      <td>3</td>\n",
       "      <td>0.333333</td>\n",
       "      <td>0.666667</td>\n",
       "    </tr>\n",
       "    <tr>\n",
       "      <th>3</th>\n",
       "      <td>3221713</td>\n",
       "      <td>1</td>\n",
       "      <td>0</td>\n",
       "      <td>0</td>\n",
       "      <td>2</td>\n",
       "      <td>0</td>\n",
       "      <td>0</td>\n",
       "      <td>2</td>\n",
       "      <td>BetweenPoints</td>\n",
       "      <td>WinnerCompetitorTwo</td>\n",
       "      <td>1</td>\n",
       "      <td>1</td>\n",
       "      <td>N/A</td>\n",
       "      <td>Competitor2</td>\n",
       "      <td>4</td>\n",
       "      <td>0.250000</td>\n",
       "      <td>0.750000</td>\n",
       "    </tr>\n",
       "    <tr>\n",
       "      <th>4</th>\n",
       "      <td>3221713</td>\n",
       "      <td>1</td>\n",
       "      <td>0</td>\n",
       "      <td>0</td>\n",
       "      <td>3</td>\n",
       "      <td>0</td>\n",
       "      <td>0</td>\n",
       "      <td>2</td>\n",
       "      <td>BetweenPoints</td>\n",
       "      <td>WinnerCompetitorTwo</td>\n",
       "      <td>1</td>\n",
       "      <td>1</td>\n",
       "      <td>N/A</td>\n",
       "      <td>Competitor1</td>\n",
       "      <td>5</td>\n",
       "      <td>0.400000</td>\n",
       "      <td>0.600000</td>\n",
       "    </tr>\n",
       "  </tbody>\n",
       "</table>\n",
       "</div>"
      ],
      "text/plain": [
       "   FixtureId  ...  PointsWonCompetitor2\n",
       "0    3221713  ...              1.000000\n",
       "1    3221713  ...              1.000000\n",
       "2    3221713  ...              0.666667\n",
       "3    3221713  ...              0.750000\n",
       "4    3221713  ...              0.600000\n",
       "\n",
       "[5 rows x 17 columns]"
      ]
     },
     "execution_count": 34,
     "metadata": {
      "tags": []
     },
     "output_type": "execute_result"
    }
   ],
   "source": [
    "data.head()"
   ]
  },
  {
   "cell_type": "markdown",
   "metadata": {
    "colab_type": "text",
    "id": "4xiXrF2YHbhH"
   },
   "source": [
    "* Drop rows that indicate the final score"
   ]
  },
  {
   "cell_type": "code",
   "execution_count": 0,
   "metadata": {
    "colab": {},
    "colab_type": "code",
    "id": "wj8TPlMYHj-o"
   },
   "outputs": [],
   "source": [
    "data.drop(data[data['StateOfPlay'].isin(['WinnerCompetitorOne','WinnerCompetitorTwo'])].index.values,inplace=True)"
   ]
  },
  {
   "cell_type": "markdown",
   "metadata": {
    "colab_type": "text",
    "id": "mTsOvvUmGcSk"
   },
   "source": [
    "* Drop the columns that dont give information to the prediction"
   ]
  },
  {
   "cell_type": "code",
   "execution_count": 0,
   "metadata": {
    "colab": {},
    "colab_type": "code",
    "id": "HZ_3TtxSGkbH"
   },
   "outputs": [],
   "source": [
    "data.drop(['FixtureId','Competitor1CurrentGameScorePoints','Competitor2CurrentGameScorePoints','Serving','StateOfPlay','GameWinner'], axis=1,inplace=True)"
   ]
  },
  {
   "cell_type": "code",
   "execution_count": 0,
   "metadata": {
    "colab": {},
    "colab_type": "code",
    "id": "QtjK-c_3W_53"
   },
   "outputs": [],
   "source": [
    "#data.drop(['GameWinner'],axis=1,inplace=True)"
   ]
  },
  {
   "cell_type": "code",
   "execution_count": 0,
   "metadata": {
    "colab": {},
    "colab_type": "code",
    "id": "PhX6fcBAXIsJ"
   },
   "outputs": [],
   "source": [
    "data.to_csv('gdrive/My Drive/Genius Sport test/data.csv')"
   ]
  },
  {
   "cell_type": "markdown",
   "metadata": {
    "colab_type": "text",
    "id": "PF5nAFNePMsq"
   },
   "source": [
    "* Visualize de data"
   ]
  },
  {
   "cell_type": "code",
   "execution_count": 0,
   "metadata": {
    "colab": {},
    "colab_type": "code",
    "id": "iTVgH44dVrkb"
   },
   "outputs": [],
   "source": [
    "data.reset_index(drop=True,inplace=True)"
   ]
  },
  {
   "cell_type": "markdown",
   "metadata": {
    "colab_type": "text",
    "id": "Znu8W5PIN6LB"
   },
   "source": [
    "* Create a One Hot Encoded Data "
   ]
  },
  {
   "cell_type": "code",
   "execution_count": 0,
   "metadata": {
    "colab": {},
    "colab_type": "code",
    "id": "H_5N-fHNN7Mi"
   },
   "outputs": [],
   "source": [
    "from sklearn.preprocessing import OneHotEncoder"
   ]
  },
  {
   "cell_type": "code",
   "execution_count": 0,
   "metadata": {
    "colab": {},
    "colab_type": "code",
    "id": "HMk_6xhdUql9"
   },
   "outputs": [],
   "source": [
    "categorical_columns=['Winner','FirstSetWinner']"
   ]
  },
  {
   "cell_type": "code",
   "execution_count": 0,
   "metadata": {
    "colab": {},
    "colab_type": "code",
    "id": "XDI7lFm7YfOc"
   },
   "outputs": [],
   "source": [
    "# Instanciar el encoder\n",
    "encoder = OneHotEncoder(drop='first')\n",
    "\n",
    "# Entrenar el encoder\n",
    "#encoder.fit(train_data[columns])\n",
    "\n",
    "def one_hot(data, encoder, categorical_columns):\n",
    "    encoder.fit(data[categorical_columns])\n",
    "\n",
    "    # Generar los valores binarios\n",
    "    valores = encoder.transform(data[categorical_columns]).toarray()\n",
    "\n",
    "    #Construír un DataFrame a partir de estos valores para después concatenarlo al original\n",
    "    encoded_df = pd.DataFrame(valores ,columns=[encoder.get_feature_names()])\n",
    "\n",
    "    # Eliminar columanas con variables categóricas \n",
    "    temp=data.drop(columns=categorical_columns)\n",
    "\n",
    "    # Concatenar los DataFrames\n",
    "    data = pd.concat([temp,encoded_df], axis=1)\n",
    "    \n",
    "    return data\n",
    "\n",
    "data_encoded = one_hot(data, encoder, categorical_columns)"
   ]
  },
  {
   "cell_type": "code",
   "execution_count": 43,
   "metadata": {
    "colab": {
     "base_uri": "https://localhost:8080/",
     "height": 217
    },
    "colab_type": "code",
    "executionInfo": {
     "elapsed": 712,
     "status": "ok",
     "timestamp": 1579635868886,
     "user": {
      "displayName": "Santiago Jaramillo González",
      "photoUrl": "https://lh3.googleusercontent.com/a-/AAuE7mDyEr0lPQPVESu7gMkrsVq-Y6F_YGGYyisqjtvmEg=s64",
      "userId": "15826679613750846177"
     },
     "user_tz": 300
    },
    "id": "vo16uqD8YfR0",
    "outputId": "ad067fb0-f7bb-493b-bc3c-8c7f38aaa0b5"
   },
   "outputs": [
    {
     "data": {
      "text/html": [
       "<div>\n",
       "<style scoped>\n",
       "    .dataframe tbody tr th:only-of-type {\n",
       "        vertical-align: middle;\n",
       "    }\n",
       "\n",
       "    .dataframe tbody tr th {\n",
       "        vertical-align: top;\n",
       "    }\n",
       "\n",
       "    .dataframe thead th {\n",
       "        text-align: right;\n",
       "    }\n",
       "</style>\n",
       "<table border=\"1\" class=\"dataframe\">\n",
       "  <thead>\n",
       "    <tr style=\"text-align: right;\">\n",
       "      <th></th>\n",
       "      <th>Competitor1CurrentSetScore</th>\n",
       "      <th>Competitor1MatchScore</th>\n",
       "      <th>Competitor2CurrentSetScore</th>\n",
       "      <th>Competitor2MatchScore</th>\n",
       "      <th>CurrentSet</th>\n",
       "      <th>CurrentGame</th>\n",
       "      <th>GameNumber</th>\n",
       "      <th>PointsWonCompetitor1</th>\n",
       "      <th>PointsWonCompetitor2</th>\n",
       "      <th>(x0_WinnerCompetitorTwo,)</th>\n",
       "      <th>(x1_Competitor2,)</th>\n",
       "      <th>(x1_N/A,)</th>\n",
       "    </tr>\n",
       "  </thead>\n",
       "  <tbody>\n",
       "    <tr>\n",
       "      <th>0</th>\n",
       "      <td>0</td>\n",
       "      <td>0</td>\n",
       "      <td>0</td>\n",
       "      <td>0</td>\n",
       "      <td>1</td>\n",
       "      <td>1</td>\n",
       "      <td>1</td>\n",
       "      <td>0.000000</td>\n",
       "      <td>1.000000</td>\n",
       "      <td>1.0</td>\n",
       "      <td>0.0</td>\n",
       "      <td>1.0</td>\n",
       "    </tr>\n",
       "    <tr>\n",
       "      <th>1</th>\n",
       "      <td>0</td>\n",
       "      <td>0</td>\n",
       "      <td>0</td>\n",
       "      <td>0</td>\n",
       "      <td>1</td>\n",
       "      <td>1</td>\n",
       "      <td>2</td>\n",
       "      <td>0.000000</td>\n",
       "      <td>1.000000</td>\n",
       "      <td>1.0</td>\n",
       "      <td>0.0</td>\n",
       "      <td>1.0</td>\n",
       "    </tr>\n",
       "    <tr>\n",
       "      <th>2</th>\n",
       "      <td>0</td>\n",
       "      <td>0</td>\n",
       "      <td>0</td>\n",
       "      <td>0</td>\n",
       "      <td>1</td>\n",
       "      <td>1</td>\n",
       "      <td>3</td>\n",
       "      <td>0.333333</td>\n",
       "      <td>0.666667</td>\n",
       "      <td>1.0</td>\n",
       "      <td>0.0</td>\n",
       "      <td>1.0</td>\n",
       "    </tr>\n",
       "    <tr>\n",
       "      <th>3</th>\n",
       "      <td>0</td>\n",
       "      <td>0</td>\n",
       "      <td>0</td>\n",
       "      <td>0</td>\n",
       "      <td>1</td>\n",
       "      <td>1</td>\n",
       "      <td>4</td>\n",
       "      <td>0.250000</td>\n",
       "      <td>0.750000</td>\n",
       "      <td>1.0</td>\n",
       "      <td>0.0</td>\n",
       "      <td>1.0</td>\n",
       "    </tr>\n",
       "    <tr>\n",
       "      <th>4</th>\n",
       "      <td>0</td>\n",
       "      <td>0</td>\n",
       "      <td>0</td>\n",
       "      <td>0</td>\n",
       "      <td>1</td>\n",
       "      <td>1</td>\n",
       "      <td>5</td>\n",
       "      <td>0.400000</td>\n",
       "      <td>0.600000</td>\n",
       "      <td>1.0</td>\n",
       "      <td>0.0</td>\n",
       "      <td>1.0</td>\n",
       "    </tr>\n",
       "  </tbody>\n",
       "</table>\n",
       "</div>"
      ],
      "text/plain": [
       "   Competitor1CurrentSetScore  ...  (x1_N/A,)\n",
       "0                           0  ...        1.0\n",
       "1                           0  ...        1.0\n",
       "2                           0  ...        1.0\n",
       "3                           0  ...        1.0\n",
       "4                           0  ...        1.0\n",
       "\n",
       "[5 rows x 12 columns]"
      ]
     },
     "execution_count": 43,
     "metadata": {
      "tags": []
     },
     "output_type": "execute_result"
    }
   ],
   "source": [
    "data_encoded.head()"
   ]
  },
  {
   "cell_type": "markdown",
   "metadata": {
    "colab_type": "text",
    "id": "mDGt3fPSFShg"
   },
   "source": [
    "* Scale the data"
   ]
  },
  {
   "cell_type": "code",
   "execution_count": 0,
   "metadata": {
    "colab": {},
    "colab_type": "code",
    "id": "qyyh98ATFSQx"
   },
   "outputs": [],
   "source": [
    "from sklearn.preprocessing import StandardScaler"
   ]
  },
  {
   "cell_type": "code",
   "execution_count": 0,
   "metadata": {
    "colab": {},
    "colab_type": "code",
    "id": "abqrw3jbXBZL"
   },
   "outputs": [],
   "source": [
    "scaler=StandardScaler()"
   ]
  },
  {
   "cell_type": "code",
   "execution_count": 46,
   "metadata": {
    "colab": {
     "base_uri": "https://localhost:8080/",
     "height": 300
    },
    "colab_type": "code",
    "executionInfo": {
     "elapsed": 838,
     "status": "ok",
     "timestamp": 1579635942367,
     "user": {
      "displayName": "Santiago Jaramillo González",
      "photoUrl": "https://lh3.googleusercontent.com/a-/AAuE7mDyEr0lPQPVESu7gMkrsVq-Y6F_YGGYyisqjtvmEg=s64",
      "userId": "15826679613750846177"
     },
     "user_tz": 300
    },
    "id": "03hZcnVDaUeS",
    "outputId": "3484b8bc-400e-4b5e-b10f-d8fe8450fc3c"
   },
   "outputs": [
    {
     "name": "stdout",
     "output_type": "stream",
     "text": [
      "<class 'pandas.core.frame.DataFrame'>\n",
      "RangeIndex: 605881 entries, 0 to 605880\n",
      "Data columns (total 12 columns):\n",
      "Competitor1CurrentSetScore    605881 non-null int64\n",
      "Competitor1MatchScore         605881 non-null int64\n",
      "Competitor2CurrentSetScore    605881 non-null int64\n",
      "Competitor2MatchScore         605881 non-null int64\n",
      "CurrentSet                    605881 non-null int64\n",
      "CurrentGame                   605881 non-null int64\n",
      "GameNumber                    605881 non-null int64\n",
      "PointsWonCompetitor1          605881 non-null float64\n",
      "PointsWonCompetitor2          605881 non-null float64\n",
      "(x0_WinnerCompetitorTwo,)     605881 non-null float64\n",
      "(x1_Competitor2,)             605881 non-null float64\n",
      "(x1_N/A,)                     605881 non-null float64\n",
      "dtypes: float64(5), int64(7)\n",
      "memory usage: 55.5 MB\n"
     ]
    }
   ],
   "source": [
    "data_encoded.info()"
   ]
  },
  {
   "cell_type": "code",
   "execution_count": 0,
   "metadata": {
    "colab": {},
    "colab_type": "code",
    "id": "1_6o3fGqYQ7T"
   },
   "outputs": [],
   "source": [
    "scaler = StandardScaler()\n",
    "\n",
    "def data_scaler(data, scaler,columns):\n",
    "    \"\"\"\n",
    "    data: DataFrame que contiene los datos\n",
    "    scaler: escalador (objeto de la clase sklearn.preprocessing.StandardScaler)\n",
    "    \n",
    "    return : DataFrame con las columnas que son de tipo numérico (int64) escaladas \n",
    "    \"\"\"\n",
    "    \n",
    "    data[columns] = scaler.fit_transform(data[columns])\n",
    "    \n",
    "    return data"
   ]
  },
  {
   "cell_type": "code",
   "execution_count": 0,
   "metadata": {
    "colab": {},
    "colab_type": "code",
    "id": "DSrpcfnCaePU"
   },
   "outputs": [],
   "source": [
    "columns=['GameNumber','PointsWonCompetitor1','PointsWonCompetitor2','CurrentGame','CurrentSet','Competitor1MatchScore','Competitor2MatchScore','Competitor2CurrentSetScore','Competitor1CurrentSetScore']\n",
    "data_encoded = data_scaler(data_encoded,scaler,columns)"
   ]
  },
  {
   "cell_type": "code",
   "execution_count": 49,
   "metadata": {
    "colab": {
     "base_uri": "https://localhost:8080/",
     "height": 217
    },
    "colab_type": "code",
    "executionInfo": {
     "elapsed": 575,
     "status": "ok",
     "timestamp": 1579635957230,
     "user": {
      "displayName": "Santiago Jaramillo González",
      "photoUrl": "https://lh3.googleusercontent.com/a-/AAuE7mDyEr0lPQPVESu7gMkrsVq-Y6F_YGGYyisqjtvmEg=s64",
      "userId": "15826679613750846177"
     },
     "user_tz": 300
    },
    "id": "BSqjb9A0am8e",
    "outputId": "3e854b36-42c9-4d4a-c052-147a3fb34f47"
   },
   "outputs": [
    {
     "data": {
      "text/html": [
       "<div>\n",
       "<style scoped>\n",
       "    .dataframe tbody tr th:only-of-type {\n",
       "        vertical-align: middle;\n",
       "    }\n",
       "\n",
       "    .dataframe tbody tr th {\n",
       "        vertical-align: top;\n",
       "    }\n",
       "\n",
       "    .dataframe thead th {\n",
       "        text-align: right;\n",
       "    }\n",
       "</style>\n",
       "<table border=\"1\" class=\"dataframe\">\n",
       "  <thead>\n",
       "    <tr style=\"text-align: right;\">\n",
       "      <th></th>\n",
       "      <th>Competitor1CurrentSetScore</th>\n",
       "      <th>Competitor1MatchScore</th>\n",
       "      <th>Competitor2CurrentSetScore</th>\n",
       "      <th>Competitor2MatchScore</th>\n",
       "      <th>CurrentSet</th>\n",
       "      <th>CurrentGame</th>\n",
       "      <th>GameNumber</th>\n",
       "      <th>PointsWonCompetitor1</th>\n",
       "      <th>PointsWonCompetitor2</th>\n",
       "      <th>(x0_WinnerCompetitorTwo,)</th>\n",
       "      <th>(x1_Competitor2,)</th>\n",
       "      <th>(x1_N/A,)</th>\n",
       "    </tr>\n",
       "  </thead>\n",
       "  <tbody>\n",
       "    <tr>\n",
       "      <th>0</th>\n",
       "      <td>-1.288005</td>\n",
       "      <td>-0.731742</td>\n",
       "      <td>-1.278678</td>\n",
       "      <td>-0.711404</td>\n",
       "      <td>-1.006476</td>\n",
       "      <td>-1.436702</td>\n",
       "      <td>-1.482417</td>\n",
       "      <td>-4.808393</td>\n",
       "      <td>4.808393</td>\n",
       "      <td>1.0</td>\n",
       "      <td>0.0</td>\n",
       "      <td>1.0</td>\n",
       "    </tr>\n",
       "    <tr>\n",
       "      <th>1</th>\n",
       "      <td>-1.288005</td>\n",
       "      <td>-0.731742</td>\n",
       "      <td>-1.278678</td>\n",
       "      <td>-0.711404</td>\n",
       "      <td>-1.006476</td>\n",
       "      <td>-1.436702</td>\n",
       "      <td>-1.462145</td>\n",
       "      <td>-4.808393</td>\n",
       "      <td>4.808393</td>\n",
       "      <td>1.0</td>\n",
       "      <td>0.0</td>\n",
       "      <td>1.0</td>\n",
       "    </tr>\n",
       "    <tr>\n",
       "      <th>2</th>\n",
       "      <td>-1.288005</td>\n",
       "      <td>-0.731742</td>\n",
       "      <td>-1.278678</td>\n",
       "      <td>-0.711404</td>\n",
       "      <td>-1.006476</td>\n",
       "      <td>-1.436702</td>\n",
       "      <td>-1.441873</td>\n",
       "      <td>-1.058300</td>\n",
       "      <td>1.058300</td>\n",
       "      <td>1.0</td>\n",
       "      <td>0.0</td>\n",
       "      <td>1.0</td>\n",
       "    </tr>\n",
       "    <tr>\n",
       "      <th>3</th>\n",
       "      <td>-1.288005</td>\n",
       "      <td>-0.731742</td>\n",
       "      <td>-1.278678</td>\n",
       "      <td>-0.711404</td>\n",
       "      <td>-1.006476</td>\n",
       "      <td>-1.436702</td>\n",
       "      <td>-1.421602</td>\n",
       "      <td>-1.995823</td>\n",
       "      <td>1.995823</td>\n",
       "      <td>1.0</td>\n",
       "      <td>0.0</td>\n",
       "      <td>1.0</td>\n",
       "    </tr>\n",
       "    <tr>\n",
       "      <th>4</th>\n",
       "      <td>-1.288005</td>\n",
       "      <td>-0.731742</td>\n",
       "      <td>-1.278678</td>\n",
       "      <td>-0.711404</td>\n",
       "      <td>-1.006476</td>\n",
       "      <td>-1.436702</td>\n",
       "      <td>-1.401330</td>\n",
       "      <td>-0.308281</td>\n",
       "      <td>0.308281</td>\n",
       "      <td>1.0</td>\n",
       "      <td>0.0</td>\n",
       "      <td>1.0</td>\n",
       "    </tr>\n",
       "  </tbody>\n",
       "</table>\n",
       "</div>"
      ],
      "text/plain": [
       "   Competitor1CurrentSetScore  ...  (x1_N/A,)\n",
       "0                   -1.288005  ...        1.0\n",
       "1                   -1.288005  ...        1.0\n",
       "2                   -1.288005  ...        1.0\n",
       "3                   -1.288005  ...        1.0\n",
       "4                   -1.288005  ...        1.0\n",
       "\n",
       "[5 rows x 12 columns]"
      ]
     },
     "execution_count": 49,
     "metadata": {
      "tags": []
     },
     "output_type": "execute_result"
    }
   ],
   "source": [
    "data_encoded.head()"
   ]
  },
  {
   "cell_type": "code",
   "execution_count": 50,
   "metadata": {
    "colab": {
     "base_uri": "https://localhost:8080/",
     "height": 217
    },
    "colab_type": "code",
    "executionInfo": {
     "elapsed": 731,
     "status": "ok",
     "timestamp": 1579635965850,
     "user": {
      "displayName": "Santiago Jaramillo González",
      "photoUrl": "https://lh3.googleusercontent.com/a-/AAuE7mDyEr0lPQPVESu7gMkrsVq-Y6F_YGGYyisqjtvmEg=s64",
      "userId": "15826679613750846177"
     },
     "user_tz": 300
    },
    "id": "_w4aZ_bakuQh",
    "outputId": "79477f50-d3ee-4c0f-92c3-0ad50599b602"
   },
   "outputs": [
    {
     "data": {
      "text/html": [
       "<div>\n",
       "<style scoped>\n",
       "    .dataframe tbody tr th:only-of-type {\n",
       "        vertical-align: middle;\n",
       "    }\n",
       "\n",
       "    .dataframe tbody tr th {\n",
       "        vertical-align: top;\n",
       "    }\n",
       "\n",
       "    .dataframe thead th {\n",
       "        text-align: right;\n",
       "    }\n",
       "</style>\n",
       "<table border=\"1\" class=\"dataframe\">\n",
       "  <thead>\n",
       "    <tr style=\"text-align: right;\">\n",
       "      <th></th>\n",
       "      <th>Competitor1CurrentSetScore</th>\n",
       "      <th>Competitor1MatchScore</th>\n",
       "      <th>Competitor2CurrentSetScore</th>\n",
       "      <th>Competitor2MatchScore</th>\n",
       "      <th>Winner</th>\n",
       "      <th>CurrentSet</th>\n",
       "      <th>CurrentGame</th>\n",
       "      <th>FirstSetWinner</th>\n",
       "      <th>GameNumber</th>\n",
       "      <th>PointsWonCompetitor1</th>\n",
       "      <th>PointsWonCompetitor2</th>\n",
       "    </tr>\n",
       "  </thead>\n",
       "  <tbody>\n",
       "    <tr>\n",
       "      <th>0</th>\n",
       "      <td>0</td>\n",
       "      <td>0</td>\n",
       "      <td>0</td>\n",
       "      <td>0</td>\n",
       "      <td>WinnerCompetitorTwo</td>\n",
       "      <td>1</td>\n",
       "      <td>1</td>\n",
       "      <td>N/A</td>\n",
       "      <td>1</td>\n",
       "      <td>0.000000</td>\n",
       "      <td>1.000000</td>\n",
       "    </tr>\n",
       "    <tr>\n",
       "      <th>1</th>\n",
       "      <td>0</td>\n",
       "      <td>0</td>\n",
       "      <td>0</td>\n",
       "      <td>0</td>\n",
       "      <td>WinnerCompetitorTwo</td>\n",
       "      <td>1</td>\n",
       "      <td>1</td>\n",
       "      <td>N/A</td>\n",
       "      <td>2</td>\n",
       "      <td>0.000000</td>\n",
       "      <td>1.000000</td>\n",
       "    </tr>\n",
       "    <tr>\n",
       "      <th>2</th>\n",
       "      <td>0</td>\n",
       "      <td>0</td>\n",
       "      <td>0</td>\n",
       "      <td>0</td>\n",
       "      <td>WinnerCompetitorTwo</td>\n",
       "      <td>1</td>\n",
       "      <td>1</td>\n",
       "      <td>N/A</td>\n",
       "      <td>3</td>\n",
       "      <td>0.333333</td>\n",
       "      <td>0.666667</td>\n",
       "    </tr>\n",
       "    <tr>\n",
       "      <th>3</th>\n",
       "      <td>0</td>\n",
       "      <td>0</td>\n",
       "      <td>0</td>\n",
       "      <td>0</td>\n",
       "      <td>WinnerCompetitorTwo</td>\n",
       "      <td>1</td>\n",
       "      <td>1</td>\n",
       "      <td>N/A</td>\n",
       "      <td>4</td>\n",
       "      <td>0.250000</td>\n",
       "      <td>0.750000</td>\n",
       "    </tr>\n",
       "    <tr>\n",
       "      <th>4</th>\n",
       "      <td>0</td>\n",
       "      <td>0</td>\n",
       "      <td>0</td>\n",
       "      <td>0</td>\n",
       "      <td>WinnerCompetitorTwo</td>\n",
       "      <td>1</td>\n",
       "      <td>1</td>\n",
       "      <td>N/A</td>\n",
       "      <td>5</td>\n",
       "      <td>0.400000</td>\n",
       "      <td>0.600000</td>\n",
       "    </tr>\n",
       "  </tbody>\n",
       "</table>\n",
       "</div>"
      ],
      "text/plain": [
       "   Competitor1CurrentSetScore  ...  PointsWonCompetitor2\n",
       "0                           0  ...              1.000000\n",
       "1                           0  ...              1.000000\n",
       "2                           0  ...              0.666667\n",
       "3                           0  ...              0.750000\n",
       "4                           0  ...              0.600000\n",
       "\n",
       "[5 rows x 11 columns]"
      ]
     },
     "execution_count": 50,
     "metadata": {
      "tags": []
     },
     "output_type": "execute_result"
    }
   ],
   "source": [
    "data.head()"
   ]
  },
  {
   "cell_type": "markdown",
   "metadata": {
    "colab_type": "text",
    "id": "L3nx803BtBcc"
   },
   "source": [
    "# Trainning"
   ]
  },
  {
   "cell_type": "code",
   "execution_count": 0,
   "metadata": {
    "colab": {},
    "colab_type": "code",
    "id": "SPfTvTy4rNSD"
   },
   "outputs": [],
   "source": [
    "from sklearn.ensemble import RandomForestClassifier, GradientBoostingClassifier\n",
    "from sklearn.svm import SVC\n",
    "import lightgbm as lgb\n",
    "from sklearn.linear_model import LogisticRegression\n",
    "from sklearn.model_selection import train_test_split\n",
    "from sklearn.metrics import accuracy_score\n"
   ]
  },
  {
   "cell_type": "markdown",
   "metadata": {
    "colab_type": "text",
    "id": "rHXntUDuzwTw"
   },
   "source": [
    "* Split the data"
   ]
  },
  {
   "cell_type": "code",
   "execution_count": 2,
   "metadata": {
    "colab": {
     "base_uri": "https://localhost:8080/",
     "height": 180
    },
    "colab_type": "code",
    "executionInfo": {
     "elapsed": 1033,
     "status": "error",
     "timestamp": 1579636165520,
     "user": {
      "displayName": "Santiago Jaramillo González",
      "photoUrl": "https://lh3.googleusercontent.com/a-/AAuE7mDyEr0lPQPVESu7gMkrsVq-Y6F_YGGYyisqjtvmEg=s64",
      "userId": "15826679613750846177"
     },
     "user_tz": 300
    },
    "id": "TVoW17U_olD-",
    "outputId": "06a37857-3b6e-41b1-d746-2214d16bcda6"
   },
   "outputs": [
    {
     "ename": "NameError",
     "evalue": "ignored",
     "output_type": "error",
     "traceback": [
      "\u001b[0;31m---------------------------------------------------------------------------\u001b[0m",
      "\u001b[0;31mNameError\u001b[0m                                 Traceback (most recent call last)",
      "\u001b[0;32m<ipython-input-2-68933c375e9d>\u001b[0m in \u001b[0;36m<module>\u001b[0;34m()\u001b[0m\n\u001b[0;32m----> 1\u001b[0;31m \u001b[0mX\u001b[0m\u001b[0;34m=\u001b[0m\u001b[0mdata\u001b[0m\u001b[0;34m.\u001b[0m\u001b[0mdrop\u001b[0m\u001b[0;34m(\u001b[0m\u001b[0;34m'Winner'\u001b[0m\u001b[0;34m,\u001b[0m\u001b[0maxis\u001b[0m\u001b[0;34m=\u001b[0m\u001b[0;36m1\u001b[0m\u001b[0;34m)\u001b[0m\u001b[0;34m\u001b[0m\u001b[0;34m\u001b[0m\u001b[0m\n\u001b[0m\u001b[1;32m      2\u001b[0m \u001b[0my\u001b[0m\u001b[0;34m=\u001b[0m\u001b[0mdata\u001b[0m\u001b[0;34m[\u001b[0m\u001b[0;34m'Winner'\u001b[0m\u001b[0;34m]\u001b[0m\u001b[0;34m\u001b[0m\u001b[0;34m\u001b[0m\u001b[0m\n",
      "\u001b[0;31mNameError\u001b[0m: name 'data' is not defined"
     ]
    }
   ],
   "source": [
    "X=data.drop('Winner',axis=1)\n",
    "y=data['Winner']"
   ]
  },
  {
   "cell_type": "code",
   "execution_count": 0,
   "metadata": {
    "colab": {},
    "colab_type": "code",
    "id": "N8cFjOKZpNeq"
   },
   "outputs": [],
   "source": [
    "X_train, X_test, y_train, y_test = train_test_split(X, y, test_size=0.2, random_state=42)"
   ]
  },
  {
   "cell_type": "markdown",
   "metadata": {
    "colab_type": "text",
    "id": "DwFTizIjogB1"
   },
   "source": [
    "Data with One Hot Encoding"
   ]
  },
  {
   "cell_type": "code",
   "execution_count": 0,
   "metadata": {
    "colab": {},
    "colab_type": "code",
    "id": "iy8o0r_7nsqo"
   },
   "outputs": [],
   "source": [
    "X_one=data_encoded.drop(('x0_WinnerCompetitorTwo',),axis=1)"
   ]
  },
  {
   "cell_type": "code",
   "execution_count": 0,
   "metadata": {
    "colab": {},
    "colab_type": "code",
    "id": "4E1fhHfKn_yF"
   },
   "outputs": [],
   "source": [
    "y_one= data_encoded[('x0_WinnerCompetitorTwo',)]"
   ]
  },
  {
   "cell_type": "code",
   "execution_count": 0,
   "metadata": {
    "colab": {},
    "colab_type": "code",
    "id": "VkXhlRDprNUw"
   },
   "outputs": [],
   "source": [
    "X_train_one, X_test_one, y_train_one, y_test_one = train_test_split(X_one, y_one, test_size=0.2, random_state=41)"
   ]
  },
  {
   "cell_type": "markdown",
   "metadata": {
    "colab_type": "text",
    "id": "CYOzAUjkz_Iv"
   },
   "source": [
    "* Test some models "
   ]
  },
  {
   "cell_type": "markdown",
   "metadata": {
    "colab_type": "text",
    "id": "DggUq2bEqFR1"
   },
   "source": [
    "lgb -  Dropouts meet Multiple Additive Regression Trees"
   ]
  },
  {
   "cell_type": "code",
   "execution_count": 0,
   "metadata": {
    "colab": {},
    "colab_type": "code",
    "id": "BVuuRJGfrNfk"
   },
   "outputs": [],
   "source": [
    "lgb_train = lgb.Dataset(X_train_one, y_train_one)\n",
    "lgb_eval = lgb.Dataset(X_test_one, y_test_one, reference=lgb_train)"
   ]
  },
  {
   "cell_type": "code",
   "execution_count": 147,
   "metadata": {
    "colab": {
     "base_uri": "https://localhost:8080/",
     "height": 400
    },
    "colab_type": "code",
    "executionInfo": {
     "elapsed": 481500,
     "status": "ok",
     "timestamp": 1579585080235,
     "user": {
      "displayName": "Santiago Jaramillo González",
      "photoUrl": "https://lh3.googleusercontent.com/a-/AAuE7mDyEr0lPQPVESu7gMkrsVq-Y6F_YGGYyisqjtvmEg=s64",
      "userId": "15826679613750846177"
     },
     "user_tz": 300
    },
    "id": "PXrUXKyJrNk_",
    "outputId": "83b89128-0312-4289-ea1e-56b28584f8d3"
   },
   "outputs": [
    {
     "name": "stdout",
     "output_type": "stream",
     "text": [
      "Starting training...\n",
      "[1]\tvalid_0's l1: 0.490862\tvalid_0's l2: 0.24138\n"
     ]
    },
    {
     "name": "stderr",
     "output_type": "stream",
     "text": [
      "/usr/local/lib/python3.6/dist-packages/lightgbm/callback.py:189: UserWarning: Early stopping is not available in dart mode\n",
      "  warnings.warn('Early stopping is not available in dart mode')\n"
     ]
    },
    {
     "name": "stdout",
     "output_type": "stream",
     "text": [
      "[2]\tvalid_0's l1: 0.482672\tvalid_0's l2: 0.233822\n",
      "[3]\tvalid_0's l1: 0.47524\tvalid_0's l2: 0.227307\n",
      "[4]\tvalid_0's l1: 0.467815\tvalid_0's l2: 0.221135\n",
      "[5]\tvalid_0's l1: 0.460765\tvalid_0's l2: 0.21559\n",
      "[6]\tvalid_0's l1: 0.454394\tvalid_0's l2: 0.210815\n",
      "[7]\tvalid_0's l1: 0.448347\tvalid_0's l2: 0.206521\n",
      "[8]\tvalid_0's l1: 0.450803\tvalid_0's l2: 0.208226\n",
      "[9]\tvalid_0's l1: 0.445065\tvalid_0's l2: 0.204228\n",
      "[10]\tvalid_0's l1: 0.439482\tvalid_0's l2: 0.200585\n",
      "[11]\tvalid_0's l1: 0.43418\tvalid_0's l2: 0.197296\n",
      "[12]\tvalid_0's l1: 0.436302\tvalid_0's l2: 0.198605\n",
      "[13]\tvalid_0's l1: 0.430853\tvalid_0's l2: 0.195274\n",
      "[14]\tvalid_0's l1: 0.425974\tvalid_0's l2: 0.192509\n",
      "[15]\tvalid_0's l1: 0.421334\tvalid_0's l2: 0.190025\n",
      "[16]\tvalid_0's l1: 0.416932\tvalid_0's l2: 0.187783\n",
      "[17]\tvalid_0's l1: 0.412422\tvalid_0's l2: 0.185509\n",
      "[18]\tvalid_0's l1: 0.408179\tvalid_0's l2: 0.183502\n",
      "[19]\tvalid_0's l1: 0.404184\tvalid_0's l2: 0.181723\n",
      "[20]\tvalid_0's l1: 0.400363\tvalid_0's l2: 0.180119\n"
     ]
    }
   ],
   "source": [
    "params = {\n",
    "    'boosting_type': 'dart',\n",
    "    'objective': 'binary',\n",
    "    'metric': {'l2', 'l1'},\n",
    "    'num_leaves': 100000,\n",
    "    'learning_rate': 0.05,\n",
    "    'feature_fraction': 0.9,\n",
    "    'bagging_fraction': 0.8,\n",
    "    'bagging_freq': 5,\n",
    "    'verbose': 0\n",
    "}\n",
    "\n",
    "print('Starting training...')\n",
    "# train\n",
    "gbm = lgb.train(params,\n",
    "                lgb_train,\n",
    "                num_boost_round=20,\n",
    "                valid_sets=lgb_eval,\n",
    "                early_stopping_rounds=5,)\n"
   ]
  },
  {
   "cell_type": "code",
   "execution_count": 0,
   "metadata": {
    "colab": {},
    "colab_type": "code",
    "id": "30cKgY9T_-1h"
   },
   "outputs": [],
   "source": [
    "y_train_pred=gbm.predict(X_train_one)\n",
    "y_test_pred=gbm.predict(X_test_one)"
   ]
  },
  {
   "cell_type": "code",
   "execution_count": 0,
   "metadata": {
    "colab": {},
    "colab_type": "code",
    "id": "yB89HLQcAa-r"
   },
   "outputs": [],
   "source": [
    "y_train_pred_=[]\n",
    "for i in y_train_pred:\n",
    "  if i > 0.5:\n",
    "    y_train_pred_.append(1)\n",
    "  else:\n",
    "    y_train_pred_.append(0)\n",
    "\n",
    "y_test_pred_=[]\n",
    "for i in y_test_pred:\n",
    "  if i > 0.5:\n",
    "    y_test_pred_.append(1)\n",
    "  else:\n",
    "    y_test_pred_.append(0)"
   ]
  },
  {
   "cell_type": "code",
   "execution_count": 150,
   "metadata": {
    "colab": {
     "base_uri": "https://localhost:8080/",
     "height": 50
    },
    "colab_type": "code",
    "executionInfo": {
     "elapsed": 483369,
     "status": "ok",
     "timestamp": 1579585082124,
     "user": {
      "displayName": "Santiago Jaramillo González",
      "photoUrl": "https://lh3.googleusercontent.com/a-/AAuE7mDyEr0lPQPVESu7gMkrsVq-Y6F_YGGYyisqjtvmEg=s64",
      "userId": "15826679613750846177"
     },
     "user_tz": 300
    },
    "id": "lD3BbEPq_-kc",
    "outputId": "7e3781f5-2568-451e-96df-30086d3b2e49"
   },
   "outputs": [
    {
     "name": "stdout",
     "output_type": "stream",
     "text": [
      "Trian accuracy: 0.7620754109724698\n",
      "Test accuracy: 0.7460821773108758\n"
     ]
    }
   ],
   "source": [
    "GBM_test_error = accuracy_score(y_test_one, y_test_pred_)\n",
    "print('Trian accuracy: {}'.format(accuracy_score(y_train_one, y_train_pred_)))\n",
    "print('Test accuracy: {}'.format(GBM_test_error))"
   ]
  },
  {
   "cell_type": "code",
   "execution_count": 0,
   "metadata": {
    "colab": {},
    "colab_type": "code",
    "id": "hOC-Aux7Zkpf"
   },
   "outputs": [],
   "source": []
  },
  {
   "cell_type": "markdown",
   "metadata": {
    "colab_type": "text",
    "id": "UFSTBbpn6iMw"
   },
   "source": [
    "Random Forest"
   ]
  },
  {
   "cell_type": "code",
   "execution_count": 151,
   "metadata": {
    "colab": {
     "base_uri": "https://localhost:8080/",
     "height": 150
    },
    "colab_type": "code",
    "executionInfo": {
     "elapsed": 688016,
     "status": "ok",
     "timestamp": 1579585286790,
     "user": {
      "displayName": "Santiago Jaramillo González",
      "photoUrl": "https://lh3.googleusercontent.com/a-/AAuE7mDyEr0lPQPVESu7gMkrsVq-Y6F_YGGYyisqjtvmEg=s64",
      "userId": "15826679613750846177"
     },
     "user_tz": 300
    },
    "id": "5aSQc6XO6cTC",
    "outputId": "f0f67892-baa6-4f18-ed44-5adfaab5a331"
   },
   "outputs": [
    {
     "data": {
      "text/plain": [
       "RandomForestClassifier(bootstrap=True, ccp_alpha=0.0, class_weight=None,\n",
       "                       criterion='gini', max_depth=None, max_features='auto',\n",
       "                       max_leaf_nodes=None, max_samples=None,\n",
       "                       min_impurity_decrease=0.0, min_impurity_split=None,\n",
       "                       min_samples_leaf=1, min_samples_split=2,\n",
       "                       min_weight_fraction_leaf=0.0, n_estimators=300,\n",
       "                       n_jobs=None, oob_score=False, random_state=None,\n",
       "                       verbose=0, warm_start=False)"
      ]
     },
     "execution_count": 151,
     "metadata": {
      "tags": []
     },
     "output_type": "execute_result"
    }
   ],
   "source": [
    "RandomForest = RandomForestClassifier(n_estimators=300)\n",
    "RandomForest.fit(X_train_one,y_train_one)"
   ]
  },
  {
   "cell_type": "code",
   "execution_count": 0,
   "metadata": {
    "colab": {},
    "colab_type": "code",
    "id": "BBPtsuE-6cCS"
   },
   "outputs": [],
   "source": [
    "y_train_pred=RandomForest.predict(X_train_one)\n",
    "y_test_pred=RandomForest.predict(X_test_one)\n"
   ]
  },
  {
   "cell_type": "code",
   "execution_count": 153,
   "metadata": {
    "colab": {
     "base_uri": "https://localhost:8080/",
     "height": 50
    },
    "colab_type": "code",
    "executionInfo": {
     "elapsed": 746257,
     "status": "ok",
     "timestamp": 1579585345048,
     "user": {
      "displayName": "Santiago Jaramillo González",
      "photoUrl": "https://lh3.googleusercontent.com/a-/AAuE7mDyEr0lPQPVESu7gMkrsVq-Y6F_YGGYyisqjtvmEg=s64",
      "userId": "15826679613750846177"
     },
     "user_tz": 300
    },
    "id": "AtuwhPyt6b-3",
    "outputId": "a2e23e27-789c-457c-8415-50960ed03c37"
   },
   "outputs": [
    {
     "name": "stdout",
     "output_type": "stream",
     "text": [
      "Trian accuracy: 0.7834038918597742\n",
      "Test accuracy: 0.734008929087203\n"
     ]
    }
   ],
   "source": [
    "RF_test_error = accuracy_score(y_test_one, y_test_pred)\n",
    "print('Trian accuracy: {}'.format(accuracy_score(y_train_one, y_train_pred)))\n",
    "print('Test accuracy: {}'.format(RF_test_error))"
   ]
  },
  {
   "cell_type": "markdown",
   "metadata": {
    "colab_type": "text",
    "id": "tbqyHO_t_mar"
   },
   "source": [
    "LogisticRegression"
   ]
  },
  {
   "cell_type": "code",
   "execution_count": 0,
   "metadata": {
    "colab": {},
    "colab_type": "code",
    "id": "u28K4RRtiqDu"
   },
   "outputs": [],
   "source": [
    "from sklearn.preprocessing import PolynomialFeatures"
   ]
  },
  {
   "cell_type": "code",
   "execution_count": 0,
   "metadata": {
    "colab": {},
    "colab_type": "code",
    "id": "q3OT4TQTi02m"
   },
   "outputs": [],
   "source": [
    "poly = PolynomialFeatures(3)\n",
    "X_train_poly = poly.fit_transform(X_train_one)\n",
    "X_test_poly = poly.fit_transform(X_test_one)"
   ]
  },
  {
   "cell_type": "code",
   "execution_count": 0,
   "metadata": {
    "colab": {},
    "colab_type": "code",
    "id": "NgfCkfx-ACPH"
   },
   "outputs": [],
   "source": [
    "LR=LogisticRegression(C=100,max_iter=1000)"
   ]
  },
  {
   "cell_type": "code",
   "execution_count": 157,
   "metadata": {
    "colab": {
     "base_uri": "https://localhost:8080/",
     "height": 233
    },
    "colab_type": "code",
    "executionInfo": {
     "elapsed": 1107259,
     "status": "ok",
     "timestamp": 1579585706101,
     "user": {
      "displayName": "Santiago Jaramillo González",
      "photoUrl": "https://lh3.googleusercontent.com/a-/AAuE7mDyEr0lPQPVESu7gMkrsVq-Y6F_YGGYyisqjtvmEg=s64",
      "userId": "15826679613750846177"
     },
     "user_tz": 300
    },
    "id": "1Etm3pTLAUpk",
    "outputId": "73aa4942-bf3f-40a8-82f9-8e030c036909"
   },
   "outputs": [
    {
     "name": "stderr",
     "output_type": "stream",
     "text": [
      "/usr/local/lib/python3.6/dist-packages/sklearn/linear_model/_logistic.py:940: ConvergenceWarning: lbfgs failed to converge (status=1):\n",
      "STOP: TOTAL NO. of ITERATIONS REACHED LIMIT.\n",
      "\n",
      "Increase the number of iterations (max_iter) or scale the data as shown in:\n",
      "    https://scikit-learn.org/stable/modules/preprocessing.html\n",
      "Please also refer to the documentation for alternative solver options:\n",
      "    https://scikit-learn.org/stable/modules/linear_model.html#logistic-regression\n",
      "  extra_warning_msg=_LOGISTIC_SOLVER_CONVERGENCE_MSG)\n"
     ]
    },
    {
     "data": {
      "text/plain": [
       "LogisticRegression(C=100, class_weight=None, dual=False, fit_intercept=True,\n",
       "                   intercept_scaling=1, l1_ratio=None, max_iter=1000,\n",
       "                   multi_class='auto', n_jobs=None, penalty='l2',\n",
       "                   random_state=None, solver='lbfgs', tol=0.0001, verbose=0,\n",
       "                   warm_start=False)"
      ]
     },
     "execution_count": 157,
     "metadata": {
      "tags": []
     },
     "output_type": "execute_result"
    }
   ],
   "source": [
    "LR.fit(X_train_poly,y_train_one)"
   ]
  },
  {
   "cell_type": "code",
   "execution_count": 0,
   "metadata": {
    "colab": {},
    "colab_type": "code",
    "id": "BzgPBPT8AoXF"
   },
   "outputs": [],
   "source": [
    "y_train_pred=LR.predict(X_train_poly)\n",
    "y_test_pred=LR.predict(X_test_poly)"
   ]
  },
  {
   "cell_type": "code",
   "execution_count": 159,
   "metadata": {
    "colab": {
     "base_uri": "https://localhost:8080/",
     "height": 50
    },
    "colab_type": "code",
    "executionInfo": {
     "elapsed": 1107593,
     "status": "ok",
     "timestamp": 1579585706460,
     "user": {
      "displayName": "Santiago Jaramillo González",
      "photoUrl": "https://lh3.googleusercontent.com/a-/AAuE7mDyEr0lPQPVESu7gMkrsVq-Y6F_YGGYyisqjtvmEg=s64",
      "userId": "15826679613750846177"
     },
     "user_tz": 300
    },
    "id": "E5mbMF-e6b2Z",
    "outputId": "2d31daa5-bc55-4ef3-aa97-40df15fbdabd"
   },
   "outputs": [
    {
     "name": "stdout",
     "output_type": "stream",
     "text": [
      "Trian accuracy: 0.7433278867102396\n",
      "Test accuracy: 0.7452569381978428\n"
     ]
    }
   ],
   "source": [
    "LR_test_error = accuracy_score(y_test_one, y_test_pred)\n",
    "print('Trian accuracy: {}'.format(accuracy_score(y_train_one, y_train_pred)))\n",
    "print('Test accuracy: {}'.format(LR_test_error))"
   ]
  },
  {
   "cell_type": "markdown",
   "metadata": {
    "colab_type": "text",
    "id": "TjJktIXVDuPR"
   },
   "source": [
    "SVC"
   ]
  },
  {
   "cell_type": "code",
   "execution_count": 0,
   "metadata": {
    "colab": {},
    "colab_type": "code",
    "id": "20-245LO6bsy"
   },
   "outputs": [],
   "source": [
    "SVC_model = SVC(max_iter=1000,C=100,gamma='auto')"
   ]
  },
  {
   "cell_type": "code",
   "execution_count": 161,
   "metadata": {
    "colab": {
     "base_uri": "https://localhost:8080/",
     "height": 136
    },
    "colab_type": "code",
    "executionInfo": {
     "elapsed": 1157868,
     "status": "ok",
     "timestamp": 1579585756759,
     "user": {
      "displayName": "Santiago Jaramillo González",
      "photoUrl": "https://lh3.googleusercontent.com/a-/AAuE7mDyEr0lPQPVESu7gMkrsVq-Y6F_YGGYyisqjtvmEg=s64",
      "userId": "15826679613750846177"
     },
     "user_tz": 300
    },
    "id": "DxlvO8-p6boS",
    "outputId": "02061907-2e58-4c6f-9cb2-c5991ed747c5"
   },
   "outputs": [
    {
     "name": "stderr",
     "output_type": "stream",
     "text": [
      "/usr/local/lib/python3.6/dist-packages/sklearn/svm/_base.py:231: ConvergenceWarning: Solver terminated early (max_iter=1000).  Consider pre-processing your data with StandardScaler or MinMaxScaler.\n",
      "  % self.max_iter, ConvergenceWarning)\n"
     ]
    },
    {
     "data": {
      "text/plain": [
       "SVC(C=100, break_ties=False, cache_size=200, class_weight=None, coef0=0.0,\n",
       "    decision_function_shape='ovr', degree=3, gamma='auto', kernel='rbf',\n",
       "    max_iter=1000, probability=False, random_state=None, shrinking=True,\n",
       "    tol=0.001, verbose=False)"
      ]
     },
     "execution_count": 161,
     "metadata": {
      "tags": []
     },
     "output_type": "execute_result"
    }
   ],
   "source": [
    "SVC_model.fit(X_train_one,y_train_one)"
   ]
  },
  {
   "cell_type": "code",
   "execution_count": 0,
   "metadata": {
    "colab": {},
    "colab_type": "code",
    "id": "FPLxpE8E6bif"
   },
   "outputs": [],
   "source": [
    "y_train_pred=SVC_model.predict(X_train_one)\n",
    "y_test_pred=SVC_model.predict(X_test_one)"
   ]
  },
  {
   "cell_type": "code",
   "execution_count": 163,
   "metadata": {
    "colab": {
     "base_uri": "https://localhost:8080/",
     "height": 50
    },
    "colab_type": "code",
    "executionInfo": {
     "elapsed": 1201289,
     "status": "ok",
     "timestamp": 1579585800196,
     "user": {
      "displayName": "Santiago Jaramillo González",
      "photoUrl": "https://lh3.googleusercontent.com/a-/AAuE7mDyEr0lPQPVESu7gMkrsVq-Y6F_YGGYyisqjtvmEg=s64",
      "userId": "15826679613750846177"
     },
     "user_tz": 300
    },
    "id": "lIN-bSpt6bWo",
    "outputId": "060339f9-3222-47c2-ea96-319543a9ec31"
   },
   "outputs": [
    {
     "name": "stdout",
     "output_type": "stream",
     "text": [
      "Trian accuracy: 0.5210169505512643\n",
      "Test accuracy: 0.5218317007352881\n"
     ]
    }
   ],
   "source": [
    "SVC_test_error = accuracy_score(y_test_one, y_test_pred)\n",
    "print('Trian accuracy: {}'.format(accuracy_score(y_train_one, y_train_pred)))\n",
    "print('Test accuracy: {}'.format(SVC_test_error))"
   ]
  },
  {
   "cell_type": "markdown",
   "metadata": {
    "colab_type": "text",
    "id": "wHKJK9IgEAWm"
   },
   "source": [
    "Gradient Boosting"
   ]
  },
  {
   "cell_type": "code",
   "execution_count": 0,
   "metadata": {
    "colab": {},
    "colab_type": "code",
    "id": "smv-igSoD_VG"
   },
   "outputs": [],
   "source": [
    "GB = GradientBoostingClassifier(learning_rate=1)"
   ]
  },
  {
   "cell_type": "code",
   "execution_count": 165,
   "metadata": {
    "colab": {
     "base_uri": "https://localhost:8080/",
     "height": 183
    },
    "colab_type": "code",
    "executionInfo": {
     "elapsed": 1271400,
     "status": "ok",
     "timestamp": 1579585870322,
     "user": {
      "displayName": "Santiago Jaramillo González",
      "photoUrl": "https://lh3.googleusercontent.com/a-/AAuE7mDyEr0lPQPVESu7gMkrsVq-Y6F_YGGYyisqjtvmEg=s64",
      "userId": "15826679613750846177"
     },
     "user_tz": 300
    },
    "id": "KO6rFcCNP3ma",
    "outputId": "c0221c7f-fa1d-4f5d-e3e6-86da0cd5150a"
   },
   "outputs": [
    {
     "data": {
      "text/plain": [
       "GradientBoostingClassifier(ccp_alpha=0.0, criterion='friedman_mse', init=None,\n",
       "                           learning_rate=1, loss='deviance', max_depth=3,\n",
       "                           max_features=None, max_leaf_nodes=None,\n",
       "                           min_impurity_decrease=0.0, min_impurity_split=None,\n",
       "                           min_samples_leaf=1, min_samples_split=2,\n",
       "                           min_weight_fraction_leaf=0.0, n_estimators=100,\n",
       "                           n_iter_no_change=None, presort='deprecated',\n",
       "                           random_state=None, subsample=1.0, tol=0.0001,\n",
       "                           validation_fraction=0.1, verbose=0,\n",
       "                           warm_start=False)"
      ]
     },
     "execution_count": 165,
     "metadata": {
      "tags": []
     },
     "output_type": "execute_result"
    }
   ],
   "source": [
    "GB.fit(X_train_one,y_train_one)"
   ]
  },
  {
   "cell_type": "code",
   "execution_count": 0,
   "metadata": {
    "colab": {},
    "colab_type": "code",
    "id": "2L4eO7XnD_Y5"
   },
   "outputs": [],
   "source": [
    "y_train_pred=GB.predict(X_train_one)\n",
    "y_test_pred=GB.predict(X_test_one)"
   ]
  },
  {
   "cell_type": "code",
   "execution_count": 167,
   "metadata": {
    "colab": {
     "base_uri": "https://localhost:8080/",
     "height": 50
    },
    "colab_type": "code",
    "executionInfo": {
     "elapsed": 1272734,
     "status": "ok",
     "timestamp": 1579585871672,
     "user": {
      "displayName": "Santiago Jaramillo González",
      "photoUrl": "https://lh3.googleusercontent.com/a-/AAuE7mDyEr0lPQPVESu7gMkrsVq-Y6F_YGGYyisqjtvmEg=s64",
      "userId": "15826679613750846177"
     },
     "user_tz": 300
    },
    "id": "OQMc7g-FD_oC",
    "outputId": "2c8f87f9-314e-499e-9be1-d0efbcc3a4a3"
   },
   "outputs": [
    {
     "name": "stdout",
     "output_type": "stream",
     "text": [
      "Trian accuracy: 0.745444642503466\n",
      "Test accuracy: 0.74568606253662\n"
     ]
    }
   ],
   "source": [
    "GB_test_error = accuracy_score(y_test_one, y_test_pred)\n",
    "print('Trian accuracy: {}'.format(accuracy_score(y_train_one, y_train_pred)))\n",
    "print('Test accuracy: {}'.format(GB_test_error))"
   ]
  },
  {
   "cell_type": "markdown",
   "metadata": {
    "colab_type": "text",
    "id": "6GYo1delqDMB"
   },
   "source": [
    "* Comparison"
   ]
  },
  {
   "cell_type": "code",
   "execution_count": 168,
   "metadata": {
    "colab": {
     "base_uri": "https://localhost:8080/",
     "height": 300
    },
    "colab_type": "code",
    "executionInfo": {
     "elapsed": 1272724,
     "status": "ok",
     "timestamp": 1579585871673,
     "user": {
      "displayName": "Santiago Jaramillo González",
      "photoUrl": "https://lh3.googleusercontent.com/a-/AAuE7mDyEr0lPQPVESu7gMkrsVq-Y6F_YGGYyisqjtvmEg=s64",
      "userId": "15826679613750846177"
     },
     "user_tz": 300
    },
    "id": "Fgb3cruID_Q3",
    "outputId": "7f3188c7-c6b1-4010-a101-e360aa2d3a9d"
   },
   "outputs": [
    {
     "data": {
      "image/png": "[encoded data removed]",
      "text/plain": [
       "<Figure size 432x288 with 1 Axes>"
      ]
     },
     "metadata": {
      "tags": []
     },
     "output_type": "display_data"
    },
    {
     "data": {
      "text/plain": [
       "<Figure size 2160x720 with 0 Axes>"
      ]
     },
     "metadata": {
      "tags": []
     },
     "output_type": "display_data"
    }
   ],
   "source": [
    "import matplotlib.pyplot as plt\n",
    " \n",
    "height = [GBM_test_error, SVC_test_error, RF_test_error, LR_test_error, GB_test_error]\n",
    "bars = ('GBM', 'SVC', 'RF', 'LR', 'GB')\n",
    "y_pos = np.arange(len(bars))\n",
    "\n",
    "plt.bar(y_pos, height)\n",
    "\n",
    "plt.xticks(y_pos, bars )\n",
    "plt.xlabel('Test error')\n",
    "plt.ylim(0.5,1)\n",
    "\n",
    "plt.figure(figsize=(30,10))\n",
    "plt.show()\n"
   ]
  },
  {
   "cell_type": "markdown",
   "metadata": {
    "colab_type": "text",
    "id": "3eV9bnm3EIr7"
   },
   "source": [
    "* Inference Time"
   ]
  },
  {
   "cell_type": "code",
   "execution_count": 169,
   "metadata": {
    "colab": {
     "base_uri": "https://localhost:8080/",
     "height": 33
    },
    "colab_type": "code",
    "executionInfo": {
     "elapsed": 1272713,
     "status": "ok",
     "timestamp": 1579585871674,
     "user": {
      "displayName": "Santiago Jaramillo González",
      "photoUrl": "https://lh3.googleusercontent.com/a-/AAuE7mDyEr0lPQPVESu7gMkrsVq-Y6F_YGGYyisqjtvmEg=s64",
      "userId": "15826679613750846177"
     },
     "user_tz": 300
    },
    "id": "wFG-yLfVrNXy",
    "outputId": "508fa45e-6084-45f2-8494-fc6367338429"
   },
   "outputs": [
    {
     "name": "stdout",
     "output_type": "stream",
     "text": [
      "0.124\n"
     ]
    }
   ],
   "source": [
    "# binomial confidence interval for the inference time\n",
    "from math import sqrt\n",
    "# Number of samples\n",
    "GameNumber =40\n",
    "#Classification error\n",
    "cls_error=0.2\n",
    "interval = 1.96 * sqrt( (cls_error * (1 - cls_error)) /GameNumber)\n",
    "print('%.3f' % interval)\n"
   ]
  },
  {
   "cell_type": "markdown",
   "metadata": {
    "colab_type": "text",
    "id": "OH62Z8q4JcgQ"
   },
   "source": [
    "* When my model will performe better"
   ]
  },
  {
   "cell_type": "code",
   "execution_count": 0,
   "metadata": {
    "colab": {},
    "colab_type": "code",
    "id": "_xWDDKOvzDg3"
   },
   "outputs": [],
   "source": [
    "sample=data[data['GameNumber']<50].reset_index(drop=True)"
   ]
  },
  {
   "cell_type": "code",
   "execution_count": 0,
   "metadata": {
    "colab": {},
    "colab_type": "code",
    "id": "zWjTHQ-AzDnL"
   },
   "outputs": [],
   "source": [
    "sample = one_hot(sample, encoder, categorical_columns)"
   ]
  },
  {
   "cell_type": "code",
   "execution_count": 0,
   "metadata": {
    "colab": {},
    "colab_type": "code",
    "id": "e3cWU9BkzDkf"
   },
   "outputs": [],
   "source": [
    "columns=['GameNumber','PointsWonCompetitor1','PointsWonCompetitor2','CurrentGame','CurrentSet','Competitor1MatchScore','Competitor2MatchScore','Competitor2CurrentSetScore','Competitor1CurrentSetScore']\n",
    "sample = data_scaler(sample,scaler,columns)"
   ]
  },
  {
   "cell_type": "code",
   "execution_count": 0,
   "metadata": {
    "colab": {},
    "colab_type": "code",
    "id": "ZhrW9M-gHWkI"
   },
   "outputs": [],
   "source": [
    "X_sample=sample.drop(('x0_WinnerCompetitorTwo',),axis=1)\n",
    "y_sample=sample[('x0_WinnerCompetitorTwo',)]"
   ]
  },
  {
   "cell_type": "code",
   "execution_count": 0,
   "metadata": {
    "colab": {},
    "colab_type": "code",
    "id": "C1aygnkiHJBG"
   },
   "outputs": [],
   "source": [
    "y_sample_pred=GB.predict(X_sample)"
   ]
  },
  {
   "cell_type": "code",
   "execution_count": 175,
   "metadata": {
    "colab": {
     "base_uri": "https://localhost:8080/",
     "height": 33
    },
    "colab_type": "code",
    "executionInfo": {
     "elapsed": 1273504,
     "status": "ok",
     "timestamp": 1579585872492,
     "user": {
      "displayName": "Santiago Jaramillo González",
      "photoUrl": "https://lh3.googleusercontent.com/a-/AAuE7mDyEr0lPQPVESu7gMkrsVq-Y6F_YGGYyisqjtvmEg=s64",
      "userId": "15826679613750846177"
     },
     "user_tz": 300
    },
    "id": "L1N43YNIHj2Z",
    "outputId": "fe9220e5-9522-4dbf-cd44-a16b1e2de625"
   },
   "outputs": [
    {
     "data": {
      "text/plain": [
       "0.6301860710453082"
      ]
     },
     "execution_count": 175,
     "metadata": {
      "tags": []
     },
     "output_type": "execute_result"
    }
   ],
   "source": [
    "accuracy_score(y_sample, y_sample_pred)"
   ]
  },
  {
   "cell_type": "code",
   "execution_count": 176,
   "metadata": {
    "colab": {
     "base_uri": "https://localhost:8080/",
     "height": 300
    },
    "colab_type": "code",
    "executionInfo": {
     "elapsed": 1273718,
     "status": "ok",
     "timestamp": 1579585872719,
     "user": {
      "displayName": "Santiago Jaramillo González",
      "photoUrl": "https://lh3.googleusercontent.com/a-/AAuE7mDyEr0lPQPVESu7gMkrsVq-Y6F_YGGYyisqjtvmEg=s64",
      "userId": "15826679613750846177"
     },
     "user_tz": 300
    },
    "id": "ZFen1EFaIAZX",
    "outputId": "8ac65553-c62f-4549-a3d2-b07cc8eb4b5d"
   },
   "outputs": [
    {
     "data": {
      "image/png": "[encoded data removed]",
      "text/plain": [
       "<Figure size 432x288 with 1 Axes>"
      ]
     },
     "metadata": {
      "tags": []
     },
     "output_type": "display_data"
    },
    {
     "data": {
      "text/plain": [
       "<Figure size 2160x720 with 0 Axes>"
      ]
     },
     "metadata": {
      "tags": []
     },
     "output_type": "display_data"
    }
   ],
   "source": [
    "height = [0.77, 0.63]\n",
    "bars = ('>50 games played', '50 games played')\n",
    "y_pos = np.arange(len(bars))\n",
    "\n",
    "plt.bar(y_pos, height)\n",
    "\n",
    "plt.xticks(y_pos, bars )\n",
    "plt.xlabel('Test error')\n",
    "plt.ylabel('Accuracy')\n",
    "plt.ylim(0.5,1)\n",
    "\n",
    "plt.figure(figsize=(30,10))\n",
    "plt.show()"
   ]
  },
  {
   "cell_type": "markdown",
   "metadata": {
    "colab_type": "text",
    "id": "iVcnEF-AUPSN"
   },
   "source": [
    "* Try with a Neural Network"
   ]
  },
  {
   "cell_type": "code",
   "execution_count": 0,
   "metadata": {
    "colab": {},
    "colab_type": "code",
    "id": "zbxW8p-HMdrx"
   },
   "outputs": [],
   "source": [
    "import tensorflow as tf"
   ]
  },
  {
   "cell_type": "code",
   "execution_count": 0,
   "metadata": {
    "colab": {},
    "colab_type": "code",
    "id": "P8EJdFeGMdme"
   },
   "outputs": [],
   "source": [
    "dataset = tf.data.Dataset.from_tensor_slices((X_train_one.values, y_train_one.values))"
   ]
  },
  {
   "cell_type": "code",
   "execution_count": 0,
   "metadata": {
    "colab": {},
    "colab_type": "code",
    "id": "KX_q3iJAMdji"
   },
   "outputs": [],
   "source": [
    "train_dataset = dataset.shuffle(len(X_train_one)).batch(100)"
   ]
  },
  {
   "cell_type": "code",
   "execution_count": 0,
   "metadata": {
    "colab": {},
    "colab_type": "code",
    "id": "jRrOBVamMdfF"
   },
   "outputs": [],
   "source": [
    "def get_compiled_model():\n",
    "  model = tf.keras.Sequential([\n",
    "    tf.keras.layers.Dense(10, activation='relu'),\n",
    "    tf.keras.layers.Dense(10, activation='relu'),\n",
    "    tf.keras.layers.Dense(1, activation='sigmoid')\n",
    "  ])\n",
    "\n",
    "  model.compile(optimizer='adam',\n",
    "                loss='binary_crossentropy',\n",
    "                metrics=['accuracy'])\n",
    "  return model"
   ]
  },
  {
   "cell_type": "code",
   "execution_count": 181,
   "metadata": {
    "colab": {
     "base_uri": "https://localhost:8080/",
     "height": 550
    },
    "colab_type": "code",
    "executionInfo": {
     "elapsed": 1406051,
     "status": "ok",
     "timestamp": 1579586005084,
     "user": {
      "displayName": "Santiago Jaramillo González",
      "photoUrl": "https://lh3.googleusercontent.com/a-/AAuE7mDyEr0lPQPVESu7gMkrsVq-Y6F_YGGYyisqjtvmEg=s64",
      "userId": "15826679613750846177"
     },
     "user_tz": 300
    },
    "id": "ZU8_J-oaRf7p",
    "outputId": "f3600aa6-101d-4506-f249-f4566880018d"
   },
   "outputs": [
    {
     "name": "stdout",
     "output_type": "stream",
     "text": [
      "Train on 4848 steps\n",
      "Epoch 1/15\n",
      "4848/4848 [==============================] - 9s 2ms/step - loss: 0.5113 - acc: 0.7379\n",
      "Epoch 2/15\n",
      "4848/4848 [==============================] - 9s 2ms/step - loss: 0.5045 - acc: 0.7416\n",
      "Epoch 3/15\n",
      "4848/4848 [==============================] - 9s 2ms/step - loss: 0.5036 - acc: 0.7418\n",
      "Epoch 4/15\n",
      "4848/4848 [==============================] - 9s 2ms/step - loss: 0.5031 - acc: 0.7416\n",
      "Epoch 5/15\n",
      "4848/4848 [==============================] - 9s 2ms/step - loss: 0.5027 - acc: 0.7419\n",
      "Epoch 6/15\n",
      "4848/4848 [==============================] - 9s 2ms/step - loss: 0.5024 - acc: 0.7420\n",
      "Epoch 7/15\n",
      "4848/4848 [==============================] - 9s 2ms/step - loss: 0.5020 - acc: 0.7423\n",
      "Epoch 8/15\n",
      "4848/4848 [==============================] - 9s 2ms/step - loss: 0.5016 - acc: 0.7427\n",
      "Epoch 9/15\n",
      "4848/4848 [==============================] - 9s 2ms/step - loss: 0.5014 - acc: 0.7425\n",
      "Epoch 10/15\n",
      "4848/4848 [==============================] - 9s 2ms/step - loss: 0.5012 - acc: 0.7424\n",
      "Epoch 11/15\n",
      "4848/4848 [==============================] - 9s 2ms/step - loss: 0.5012 - acc: 0.7428\n",
      "Epoch 12/15\n",
      "4848/4848 [==============================] - 9s 2ms/step - loss: 0.5011 - acc: 0.7424\n",
      "Epoch 13/15\n",
      "4848/4848 [==============================] - 9s 2ms/step - loss: 0.5010 - acc: 0.7427\n",
      "Epoch 14/15\n",
      "4848/4848 [==============================] - 9s 2ms/step - loss: 0.5010 - acc: 0.7424\n",
      "Epoch 15/15\n",
      "4848/4848 [==============================] - 9s 2ms/step - loss: 0.5008 - acc: 0.7428\n"
     ]
    },
    {
     "data": {
      "text/plain": [
       "<tensorflow.python.keras.callbacks.History at 0x7fc5cdf79160>"
      ]
     },
     "execution_count": 181,
     "metadata": {
      "tags": []
     },
     "output_type": "execute_result"
    }
   ],
   "source": [
    "model = get_compiled_model()\n",
    "model.fit(train_dataset, epochs=15)"
   ]
  },
  {
   "cell_type": "code",
   "execution_count": 0,
   "metadata": {
    "colab": {},
    "colab_type": "code",
    "id": "1GfYH8xbLBeh"
   },
   "outputs": [],
   "source": []
  }
 ],
 "metadata": {
  "accelerator": "GPU",
  "colab": {
   "authorship_tag": "ABX9TyNp1G7qnlDbTnJ2kM5PGbsq",
   "collapsed_sections": [],
   "name": "Solution.ipynb",
   "provenance": []
  },
  "kernelspec": {
   "display_name": "Python 3",
   "language": "python",
   "name": "python3"
  },
  "language_info": {
   "codemirror_mode": {
    "name": "ipython",
    "version": 3
   },
   "file_extension": ".py",
   "mimetype": "text/x-python",
   "name": "python",
   "nbconvert_exporter": "python",
   "pygments_lexer": "ipython3",
   "version": "3.8.3"
  }
 },
 "nbformat": 4,
 "nbformat_minor": 1
}
